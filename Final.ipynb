{
 "cells": [
  {
   "cell_type": "markdown",
   "id": "2915348d",
   "metadata": {},
   "source": [
    "# Reproduce the models in paper 32"
   ]
  },
  {
   "cell_type": "code",
   "execution_count": 1,
   "id": "f91e1a53",
   "metadata": {},
   "outputs": [],
   "source": [
    "import os\n",
    "import random\n",
    "import numpy as np\n",
    "import pandas as pd\n",
    "import torch\n",
    "import torch.nn as nn\n",
    "import torch.nn.functional as F"
   ]
  },
  {
   "cell_type": "code",
   "execution_count": 2,
   "id": "f33a640c",
   "metadata": {},
   "outputs": [],
   "source": [
    "import matplotlib.pyplot as plt\n",
    "%matplotlib inline"
   ]
  },
  {
   "cell_type": "code",
   "execution_count": 3,
   "id": "de66b869",
   "metadata": {},
   "outputs": [],
   "source": [
    "import pickle"
   ]
  },
  {
   "cell_type": "markdown",
   "id": "37685780",
   "metadata": {},
   "source": [
    "## Read filtered MIMIC-III Dataset"
   ]
  },
  {
   "cell_type": "code",
   "execution_count": 4,
   "id": "92044dba",
   "metadata": {},
   "outputs": [],
   "source": [
    "# {'4280': g1_pids, '4019': g2_pids, '5849': g3_pids}\n",
    "pids = pickle.load(open('dataset/t1/pids.pkl', 'rb'))\n",
    "group_pids = pickle.load(open('dataset/t1/group_pids.pkl', 'rb'))\n",
    "seqs = pickle.load(open('dataset/t1/seqs.pkl', 'rb'))\n",
    "rtypes = pickle.load(open('dataset/t1/rtypes.pkl', 'rb'))\n",
    "\n",
    "pids = np.array(pids)"
   ]
  },
  {
   "cell_type": "code",
   "execution_count": 5,
   "id": "c5cad479",
   "metadata": {
    "scrolled": true
   },
   "outputs": [
    {
     "name": "stdout",
     "output_type": "stream",
     "text": [
      "897\n",
      "897\n",
      "[[121, 14, 122, 52, 72, 137, 491, 492, 126, 30, 7, 146, 493, 61, 53, 250, 11, 494, 249], [495, 250, 95, 72, 14, 399, 137, 80, 146, 61, 125, 53, 155, 101, 496, 274, 299], [121, 122, 72, 430, 71, 259, 312, 51, 175], [415, 14, 497, 72, 399, 53, 146, 166, 71, 498, 164, 499, 500, 68, 125]]\n"
     ]
    }
   ],
   "source": [
    "print(len(pids))\n",
    "print(len(seqs))\n",
    "print(seqs[3])"
   ]
  },
  {
   "cell_type": "code",
   "execution_count": 6,
   "id": "b5629f0d",
   "metadata": {},
   "outputs": [],
   "source": [
    "group1_pids = group_pids['4280']\n",
    "group2_pids = group_pids['4019']\n",
    "group3_pids = group_pids['5849']"
   ]
  },
  {
   "cell_type": "code",
   "execution_count": 7,
   "id": "a26d9793",
   "metadata": {},
   "outputs": [
    {
     "name": "stdout",
     "output_type": "stream",
     "text": [
      "0\n",
      "0\n",
      "0\n",
      "0\n"
     ]
    }
   ],
   "source": [
    "c1_set = set(group1_pids)\n",
    "c2_set = set(group2_pids)\n",
    "c3_set = set(group3_pids)\n",
    "\n",
    "print(len(list(c1_set.intersection(c2_set))))\n",
    "print(len(list(c2_set.intersection(c3_set))))\n",
    "print(len(list(c3_set.intersection(c1_set))))\n",
    "print(len(list(c1_set.intersection(c2_set, c3_set))))"
   ]
  },
  {
   "cell_type": "code",
   "execution_count": 8,
   "id": "d6e5f83d",
   "metadata": {},
   "outputs": [
    {
     "data": {
      "text/plain": [
       "42"
      ]
     },
     "execution_count": 8,
     "metadata": {},
     "output_type": "execute_result"
    }
   ],
   "source": [
    "# max visit\n",
    "num_visit = [len(patient) for patient in seqs]\n",
    "max_visit = max(num_visit)\n",
    "max_visit"
   ]
  },
  {
   "cell_type": "markdown",
   "id": "1db7cebd",
   "metadata": {},
   "source": [
    "### Basic details about the dataset"
   ]
  },
  {
   "cell_type": "code",
   "execution_count": 9,
   "id": "09d7f400",
   "metadata": {},
   "outputs": [
    {
     "name": "stdout",
     "output_type": "stream",
     "text": [
      "Total sequences: 897\n",
      "Number of patients in group 1: 257\n",
      "Number of patients in group 2: 295\n",
      "Number of patients in group 3: 345\n"
     ]
    }
   ],
   "source": [
    "print(\"Total sequences: {}\".format(len(seqs)))\n",
    "print(\"Number of patients in group 1: {}\".format(len(group1_pids)))\n",
    "print(\"Number of patients in group 2: {}\".format(len(group2_pids)))\n",
    "print(\"Number of patients in group 3: {}\".format(len(group3_pids)))"
   ]
  },
  {
   "cell_type": "code",
   "execution_count": 10,
   "id": "50dba0fb",
   "metadata": {},
   "outputs": [
    {
     "name": "stdout",
     "output_type": "stream",
     "text": [
      "2835\n"
     ]
    }
   ],
   "source": [
    "unique_codes = []\n",
    "for patient in seqs:\n",
    "    for visit in patient:\n",
    "        for code in visit:\n",
    "            unique_codes.append(code)\n",
    "unique_codes = list(set(unique_codes))\n",
    "unique_codes = sorted(unique_codes)\n",
    "print(len(unique_codes))"
   ]
  },
  {
   "cell_type": "markdown",
   "id": "63a4a73f",
   "metadata": {},
   "source": [
    "### Filter events\n",
    "Remove the events that occur outside the observation window. That is, all events in visits before a disease diagnosis.\n",
    "\n",
    "diagnosis -> index\\\n",
    "DIAG_4280 -> 53\\\n",
    "DIAG_4019 -> 29\\\n",
    "DIAG_5849 -> 32"
   ]
  },
  {
   "cell_type": "code",
   "execution_count": 11,
   "id": "43aef4bc",
   "metadata": {},
   "outputs": [],
   "source": [
    "observation_seqs = []\n",
    "for patient in seqs:\n",
    "    obs_index = 3\n",
    "    for visit in patient[3:]:\n",
    "        visit_set = set(visit)\n",
    "        if 32 in visit_set:\n",
    "            break\n",
    "        if 29 in visit_set:\n",
    "            break\n",
    "        if 53 in visit_set:\n",
    "            break\n",
    "        \n",
    "        obs_index += 1\n",
    "    observation_seqs.append(patient[:obs_index])"
   ]
  },
  {
   "cell_type": "code",
   "execution_count": 12,
   "id": "c377de6a",
   "metadata": {},
   "outputs": [
    {
     "name": "stdout",
     "output_type": "stream",
     "text": [
      "23\n",
      "2450\n"
     ]
    }
   ],
   "source": [
    "# Count new max visit\n",
    "num_obs_visit = [len(patient) for patient in observation_seqs]\n",
    "max_obs_visit = max(num_obs_visit)\n",
    "print(max_obs_visit)\n",
    "\n",
    "obs_unique_codes = []\n",
    "for patient in observation_seqs:\n",
    "    for visit in patient:\n",
    "        for code in visit:\n",
    "            obs_unique_codes.append(code)\n",
    "obs_unique_codes = list(set(obs_unique_codes))\n",
    "obs_unique_codes = sorted(obs_unique_codes)\n",
    "print(len(obs_unique_codes))"
   ]
  },
  {
   "cell_type": "markdown",
   "id": "66ad3b9b",
   "metadata": {},
   "source": [
    "### Remap unique codes that contain codes in the observational phrase"
   ]
  },
  {
   "cell_type": "code",
   "execution_count": 13,
   "id": "588eb0fd",
   "metadata": {},
   "outputs": [],
   "source": [
    "code2obscode = {}\n",
    "obscode2code = {}\n",
    "for idx, old_code in enumerate(obs_unique_codes):\n",
    "    code2obscode[old_code] = idx\n",
    "    obscode2code[idx] = old_code"
   ]
  },
  {
   "cell_type": "markdown",
   "id": "0cc0a909",
   "metadata": {},
   "source": [
    "### Generate Training, Test, Valid splits\n",
    "as well as generate data pair for similarity training"
   ]
  },
  {
   "cell_type": "code",
   "execution_count": 14,
   "id": "a97d6f0f",
   "metadata": {},
   "outputs": [],
   "source": [
    "from sklearn.model_selection import train_test_split"
   ]
  },
  {
   "cell_type": "code",
   "execution_count": 15,
   "id": "c11a4d3a",
   "metadata": {},
   "outputs": [
    {
     "name": "stdout",
     "output_type": "stream",
     "text": [
      "897\n"
     ]
    }
   ],
   "source": [
    "pids_label = []\n",
    "for p_id in pids:\n",
    "    tt = 0\n",
    "    if p_id in group1_pids:\n",
    "        pids_label.append(4280)\n",
    "        tt += 1\n",
    "    if p_id in group2_pids:\n",
    "        pids_label.append(4019)\n",
    "        tt += 1\n",
    "    if p_id in group3_pids:\n",
    "        pids_label.append(5849)\n",
    "        tt += 1\n",
    "    if tt > 1:\n",
    "        print(p_id)\n",
    "    \n",
    "pids_label = np.array(pids_label)\n",
    "print(len(pids_label))"
   ]
  },
  {
   "cell_type": "code",
   "execution_count": 16,
   "id": "c38f37d8",
   "metadata": {},
   "outputs": [
    {
     "name": "stdout",
     "output_type": "stream",
     "text": [
      "Train: 672, Validation: 90, Test: 135\n"
     ]
    }
   ],
   "source": [
    "train_ratio = 0.75\n",
    "val_ratio = 0.1\n",
    "test_ratio = 0.15\n",
    "train, test, train_y, test_y = train_test_split(observation_seqs, pids_label, test_size=1-train_ratio, random_state=12345)\n",
    "val, test, val_y, test_y = train_test_split(test, test_y, test_size=test_ratio/(test_ratio+val_ratio), random_state=12345)\n",
    "print('Train: {}, Validation: {}, Test: {}'.format(len(train), len(val), len(test)))"
   ]
  },
  {
   "cell_type": "markdown",
   "id": "17be3268",
   "metadata": {},
   "source": [
    "### Training Pair?\n",
    "Anchor, positive, and negative\n",
    "\n",
    "where the anchor and the positive have the same class labels and the negative has the different class label"
   ]
  },
  {
   "cell_type": "markdown",
   "id": "b5e37640",
   "metadata": {},
   "source": [
    "## Build the dataset"
   ]
  },
  {
   "cell_type": "code",
   "execution_count": 17,
   "id": "a68598d5",
   "metadata": {},
   "outputs": [],
   "source": [
    "from torch.utils.data import Dataset\n",
    "from torch.utils.data import DataLoader"
   ]
  },
  {
   "cell_type": "code",
   "execution_count": 18,
   "id": "1004cedb",
   "metadata": {},
   "outputs": [],
   "source": [
    "class CustomDataset(Dataset):\n",
    "    def __init__(self, seqs, labels):\n",
    "        self.x = seqs\n",
    "        self.y = labels\n",
    "        \n",
    "    def __len__(self):\n",
    "        return len(self.x)\n",
    "    \n",
    "    def __getitem__(self, index):\n",
    "        # self.y contains the class of a patient, either 4280, 4019, 5849\n",
    "        return self.x[index], self.y[index]"
   ]
  },
  {
   "cell_type": "code",
   "execution_count": 19,
   "id": "0f5f6ac0",
   "metadata": {},
   "outputs": [],
   "source": [
    "train_dataset = CustomDataset(train, train_y)\n",
    "test_dataset = CustomDataset(test, test_y)"
   ]
  },
  {
   "cell_type": "markdown",
   "id": "0d28bf21",
   "metadata": {},
   "source": [
    "### Collate Function "
   ]
  },
  {
   "cell_type": "code",
   "execution_count": 20,
   "id": "28848d13",
   "metadata": {},
   "outputs": [],
   "source": [
    "def collate_fn(data):\n",
    "    '''\n",
    "    Collate the the list of samples into batches.\n",
    "    pad the diagnosis sequences to the sample shape (max # visits, len(freq_codes))\n",
    "    '''\n",
    "    sequences, labels = zip(*data)\n",
    "    \n",
    "    y = torch.tensor(labels, dtype=torch.float)\n",
    "    \n",
    "    num_patients = len(sequences)\n",
    "    #num_visits = [len(patient) for patient in sequences]\n",
    "    #max_num_visits = max(num_visits)\n",
    "    \n",
    "    x = torch.zeros((num_patients, max_obs_visit, len(obs_unique_codes)), dtype=torch.float)\n",
    "    \n",
    "    for p_idx, patient in enumerate(sequences):\n",
    "        for v_idx, visit in enumerate(patient):\n",
    "            for code in visit:\n",
    "                x[p_idx][v_idx][code2obscode[code]] = 1\n",
    "    \n",
    "    return x, y"
   ]
  },
  {
   "cell_type": "code",
   "execution_count": 21,
   "id": "3474f23f",
   "metadata": {
    "scrolled": true
   },
   "outputs": [
    {
     "name": "stdout",
     "output_type": "stream",
     "text": [
      "tensor([[0., 0., 0.,  ..., 0., 0., 0.],\n",
      "        [0., 0., 0.,  ..., 0., 0., 0.],\n",
      "        [0., 0., 0.,  ..., 0., 0., 0.],\n",
      "        ...,\n",
      "        [0., 0., 0.,  ..., 0., 0., 0.],\n",
      "        [0., 0., 0.,  ..., 0., 0., 0.],\n",
      "        [0., 0., 0.,  ..., 0., 0., 0.]])\n",
      "torch.Size([16, 23, 2450])\n",
      "tensor(4280.)\n"
     ]
    }
   ],
   "source": [
    "train_loader = DataLoader(train_dataset, batch_size=16, collate_fn=collate_fn, shuffle=True)\n",
    "test_loader  = DataLoader(test_dataset,  batch_size=16, collate_fn=collate_fn, shuffle=False)\n",
    "\n",
    "train_loader_iter = iter(train_loader)\n",
    "x_i, y_i = next(train_loader_iter)\n",
    "print(x_i[0])\n",
    "print(x_i.shape)\n",
    "print(y_i[0])"
   ]
  },
  {
   "cell_type": "markdown",
   "id": "b276de63",
   "metadata": {},
   "source": [
    "### Triplet Dataset"
   ]
  },
  {
   "cell_type": "code",
   "execution_count": 22,
   "id": "e45f9fdc",
   "metadata": {},
   "outputs": [],
   "source": [
    "class TripletDataset(Dataset):\n",
    "    def __init__(self, seqs, labels):\n",
    "        self.x = seqs\n",
    "        self.y = labels # this is label\n",
    "        self.y_set = set(self.y)\n",
    "        \n",
    "        self.y2indice = {y: np.where(self.y == y)[0] for y in self.y}\n",
    "        \n",
    "    def __len__(self):\n",
    "        return len(self.x)\n",
    "    \n",
    "    def __getitem__(self, index):\n",
    "        # self.y contains the class of a patient, either 4280, 4019, 5849\n",
    "        '''\n",
    "        Outputs:\n",
    "            a sample for positive, anchor, negative\n",
    "        '''\n",
    "        y = self.y[index]\n",
    "        \n",
    "        random_state = np.random.RandomState(12345)\n",
    "        anc = self.x[index]\n",
    "        anc_y = self.y[index]\n",
    "        \n",
    "        pos_index = index\n",
    "        while pos_index == index:\n",
    "            # re hash an index untill pos sample is different than neg sample\n",
    "            pos_index = np.random.choice(self.y2indice[anc_y])\n",
    "        neg_label = np.random.choice(list(self.y_set - set([anc_y]))) # pick a class for a negative example\n",
    "        neg_index = np.random.choice(self.y2indice[neg_label])\n",
    "        pos = self.x[pos_index]\n",
    "        neg = self.x[neg_index]\n",
    "        return (pos, anc, neg), y"
   ]
  },
  {
   "cell_type": "code",
   "execution_count": 23,
   "id": "d6b6ed23",
   "metadata": {},
   "outputs": [],
   "source": [
    "triple_train_dataset = TripletDataset(train, train_y)\n",
    "triple_test_dataset  = TripletDataset(test, test_y)"
   ]
  },
  {
   "cell_type": "markdown",
   "id": "d13e8edc",
   "metadata": {},
   "source": [
    "### Collate Function for Triplet"
   ]
  },
  {
   "cell_type": "code",
   "execution_count": 24,
   "id": "0d55108c",
   "metadata": {},
   "outputs": [],
   "source": [
    "def collate_fn_triplet(batch):\n",
    "    '''\n",
    "    Collate the the list of samples into batches.\n",
    "    pad the diagnosis sequences to the sample shape (max # visits, len(freq_codes))\n",
    "    '''\n",
    "    # print(len(batch))\n",
    "    \n",
    "    # different length\n",
    "    pan, y = zip(*batch) # pan -> positive, anchor, negative\n",
    "    \n",
    "    num_batch = len(batch)\n",
    "    \n",
    "    p = torch.zeros((num_batch, max_obs_visit, len(obs_unique_codes)), dtype=torch.float)\n",
    "    a = torch.zeros((num_batch, max_obs_visit, len(obs_unique_codes)), dtype=torch.float)\n",
    "    n = torch.zeros((num_batch, max_obs_visit, len(obs_unique_codes)), dtype=torch.float)\n",
    "    \n",
    "    for p_idx, patient in enumerate(pan):\n",
    "        pos, anc, neg = patient\n",
    "        for v_idx, visit in enumerate(pos):\n",
    "            for code in visit:\n",
    "                p[p_idx][v_idx][code2obscode[code]] = 1\n",
    "        for v_idx, visit in enumerate(anc):\n",
    "            for code in visit:\n",
    "                a[p_idx][v_idx][code2obscode[code]] = 1\n",
    "        for v_idx, visit in enumerate(neg):\n",
    "            for code in visit:\n",
    "                n[p_idx][v_idx][code2obscode[code]] = 1\n",
    "    \n",
    "    return (p, a, n), y"
   ]
  },
  {
   "cell_type": "code",
   "execution_count": 25,
   "id": "dddfe56b",
   "metadata": {},
   "outputs": [
    {
     "name": "stdout",
     "output_type": "stream",
     "text": [
      "16\n"
     ]
    }
   ],
   "source": [
    "triplet_train_loader = DataLoader(triple_train_dataset, batch_size=16, collate_fn=collate_fn_triplet, shuffle=True)\n",
    "triplet_test_loader  = DataLoader(triple_test_dataset,  batch_size=16, collate_fn=collate_fn_triplet, shuffle=False)\n",
    "triplet_train_loader_iter = iter(triplet_train_loader)\n",
    "pan_i, y_i = next(triplet_train_loader_iter)\n",
    "p_i, a_i, n_i = pan_i\n",
    "print(len(p_i))"
   ]
  },
  {
   "cell_type": "markdown",
   "id": "1d0c26d6",
   "metadata": {},
   "source": [
    "## Visualizing Raw Patient Data"
   ]
  },
  {
   "cell_type": "code",
   "execution_count": 26,
   "id": "043b9397",
   "metadata": {},
   "outputs": [
    {
     "data": {
      "image/png": "[encoded data removed]",
      "text/plain": [
       "<Figure size 360x576 with 1 Axes>"
      ]
     },
     "metadata": {
      "needs_background": "light"
     },
     "output_type": "display_data"
    }
   ],
   "source": [
    "p_sample_id = 3\n",
    "p_sample = observation_seqs[p_sample_id]\n",
    "xx = []\n",
    "yy_code = []\n",
    "for idx, visit in enumerate(p_sample):\n",
    "    for code in visit:\n",
    "        yy_code.append(code)\n",
    "        xx.append(idx)\n",
    "yy_code = list(set(yy_code))\n",
    "yy_code = sorted(yy_code)\n",
    "\n",
    "\n",
    "yy = []\n",
    "for visit in p_sample:\n",
    "    for code in visit:\n",
    "        yy.append(yy_code.index(code))\n",
    "\n",
    "yy_labels = []\n",
    "for item in yy_code:\n",
    "    yy_labels.append(rtypes[obscode2code[item]])\n",
    "yy_labels_idx = list(range(len(yy_labels)))\n",
    "\n",
    "plt.figure(figsize=(5,8))\n",
    "plt.scatter(xx, yy)\n",
    "plt.xticks(xx, xx)\n",
    "plt.yticks(yy_labels_idx, yy_labels)\n",
    "plt.xlabel('Visits')\n",
    "plt.ylabel('ICD9_CODE')\n",
    "plt.title('Patient: {}'.format(p_sample_id))\n",
    "plt.show()"
   ]
  },
  {
   "cell_type": "markdown",
   "id": "a669de2d",
   "metadata": {},
   "source": [
    "### 2.1 Visit Embedding"
   ]
  },
  {
   "cell_type": "markdown",
   "id": "7161a63d",
   "metadata": {},
   "source": [
    "v_i should be a multi-hot vector representation"
   ]
  },
  {
   "cell_type": "code",
   "execution_count": 27,
   "id": "bd9af46f",
   "metadata": {},
   "outputs": [],
   "source": [
    "class VisitEmbedding(torch.nn.Module):\n",
    "    def __init__(self, vocab_code, emb_dim=16):\n",
    "        super(VisitEmbedding, self).__init__()\n",
    "        # emb_dim < vocab_code\n",
    "        self.vocab_code = vocab_code # unique medical codes\n",
    "        self.emb_dim    = emb_dim\n",
    "        \n",
    "        self.fc   = nn.Linear(self.vocab_code, self.emb_dim, bias=True) # bias, True\n",
    "        self.relu = nn.ReLU()\n",
    "\n",
    "    \n",
    "    def forward(self, visits):\n",
    "        # should return an embedding matrix\n",
    "        # visits: a multi-hot vector (batch size, max_visit, vocab_code)\n",
    "\n",
    "        x = self.fc(visits)\n",
    "        x = self.relu(x)\n",
    "        return x"
   ]
  },
  {
   "cell_type": "markdown",
   "id": "9166b7a3",
   "metadata": {},
   "source": [
    "### 2.2 Patient Embedding"
   ]
  },
  {
   "cell_type": "code",
   "execution_count": 28,
   "id": "ee9744b9",
   "metadata": {},
   "outputs": [],
   "source": [
    "# p different filter sizes\n",
    "# the number of filters per size is q\n",
    "# total number of filters is m = pq, output m feature maps\n",
    "# h is a window size of visit length (e.g. 100 patient -> 7)\n",
    "# with stride equal 1\n",
    "# pooled outputs forms a vector represention h"
   ]
  },
  {
   "cell_type": "markdown",
   "id": "2f11f819",
   "metadata": {},
   "source": [
    "Create a vector represention that encodes the relationship across ajacent time points by using CNN.\n",
    "\n",
    "Calculate the output volume for a convolutional layer: given the input volume size $W$, the kernel/filter size $F$, the stride $S$, and the amount of zero padding $P$ used on the border, calculate the output volume size.\n",
    "\n",
    "Checkout: https://towardsdatascience.com/pytorch-basics-how-to-train-your-neural-net-intro-to-cnn-26a14c2ea29\n",
    "To find out filter and output dim"
   ]
  },
  {
   "cell_type": "code",
   "execution_count": 29,
   "id": "ee3e5df3",
   "metadata": {},
   "outputs": [],
   "source": [
    "class VectorCNN(torch.nn.Module):\n",
    "    def __init__(self, emb_dim=16):\n",
    "        super(VectorCNN, self).__init__()\n",
    "        # 1D CNN, 1D CNN, 1D CNN\n",
    "        # model parameters\n",
    "        self.emb_dim = emb_dim # input size\n",
    "        self.out_dim = 48 # Number of channels produced by the convolution\n",
    "        self.filter  = 3  # kernel/filter size\n",
    "        self.stride  = 1  # according by the paper\n",
    "        self.padding = 0  # NOTE: will zero cause an issue of information loss?\n",
    "        \n",
    "        # networks\n",
    "        self.patient_emb = VisitEmbedding(vocab_code=len(obs_unique_codes), emb_dim=emb_dim)\n",
    "        self.cnn_1d  = nn.Conv1d(in_channels=self.emb_dim,\n",
    "                                 out_channels=self.out_dim,\n",
    "                                 kernel_size=self.filter,\n",
    "                                 stride=self.stride,\n",
    "                                 padding=self.padding)\n",
    "        self.relu    = nn.ReLU()\n",
    "        self.pool_1d = nn.MaxPool1d(kernel_size=self.filter)\n",
    "        \n",
    "        \n",
    "    def forward(self, patient):\n",
    "        # return a learned vector h\n",
    "        \n",
    "        patient_embedding = self.patient_emb(patient) # (batch size, visit, features of diagnosis)\n",
    "        patient_embedding = patient_embedding.permute((0, 2, 1)) # (batch size, features of diagnosis, visit)\n",
    "        out = self.cnn_1d(patient_embedding) \n",
    "        out = self.relu(out) # produce a feature map c, correspond to the paper description\n",
    "        out = self.pool_1d(out)\n",
    "        out = out.view(len(out), -1) # pooled outputs from all the filters are concatenated to form a vector\n",
    "        return out"
   ]
  },
  {
   "cell_type": "markdown",
   "id": "aff6af73",
   "metadata": {},
   "source": [
    "## Simularity Learning"
   ]
  },
  {
   "cell_type": "markdown",
   "id": "924ce06c",
   "metadata": {},
   "source": [
    "### 3.1 Predictive Similarity Learning - Irreproducible!!!"
   ]
  },
  {
   "cell_type": "markdown",
   "id": "ee7522ac",
   "metadata": {},
   "source": [
    "#### Existing technicalities\n",
    "1. What is bilinear distance S = h_i M h_j\n",
    "    - assume M is known, Mahalanobis distance\n",
    "        - http://contrib.scikit-learn.org/metric-learn/introduction.html\n",
    "    - unknows: W_h, what is W_h???\n",
    "    - assume h_i, h_j is from the learned vector h, produced by 1D CNN layers\n",
    "    - https://docs.scipy.org/doc/scipy/reference/generated/scipy.spatial.distance.mahalanobis.html?highlight=mahalanobis#scipy.spatial.distance.mahalanobis\n",
    "2. How to construct triplet, a postive example, a negative example, an anchor\n",
    "    - known: FaceNet paper discussed how to pick a reasonable triple for training\n",
    "    - https://github.com/adambielski/siamese-triplet/blob/master/datasets.py\n",
    "3. Unknow hypterparameter of CNN layers"
   ]
  },
  {
   "cell_type": "code",
   "execution_count": 30,
   "id": "ca3de8ea",
   "metadata": {},
   "outputs": [],
   "source": [
    "similarity_loss = nn.CrossEntropyLoss()"
   ]
  },
  {
   "cell_type": "code",
   "execution_count": 31,
   "id": "8026e7a8",
   "metadata": {},
   "outputs": [],
   "source": [
    "class PredictiveSimilarity(torch.nn.Module):\n",
    "    def __init__(self):\n",
    "        super(PredictiveSimilarity, self).__init__()\n",
    "        # define a M symmetric matrix\n",
    "        # M: (m, m), where is m = pq (m feature maps)\n",
    "    def forward(self, learned_vector_h):\n",
    "        out = None\n",
    "        return out"
   ]
  },
  {
   "cell_type": "markdown",
   "id": "61f5b5d5",
   "metadata": {},
   "source": [
    "### 3.2 Triplet-Loss Metric Learning Network"
   ]
  },
  {
   "cell_type": "code",
   "execution_count": 32,
   "id": "2bd88613",
   "metadata": {},
   "outputs": [],
   "source": [
    "class TripletNetwork(torch.nn.Module):\n",
    "    def __init__(self):\n",
    "        super(TripletNetwork, self).__init__()\n",
    "        # a network work presented in Section III-A\n",
    "        self.vector_learning = VectorCNN(emb_dim=32)\n",
    "    \n",
    "    def get_learned_vector(self, x):\n",
    "        return self.vector_learning(x)\n",
    "        \n",
    "    def forward(self, pos, anc, neg):\n",
    "        p = self.vector_learning(pos)\n",
    "        a = self.vector_learning(anc)\n",
    "        n = self.vector_learning(neg)\n",
    "        return p, a, n"
   ]
  },
  {
   "cell_type": "markdown",
   "id": "6fa3252a",
   "metadata": {},
   "source": [
    "## Triplet Model Training"
   ]
  },
  {
   "cell_type": "code",
   "execution_count": 33,
   "id": "86d1976f",
   "metadata": {},
   "outputs": [],
   "source": [
    "#cuda = True if torch.cuda.is_available() else False\n",
    "#Tensor = torch.cuda.FloatTensor if cuda else torch.FloatTensor"
   ]
  },
  {
   "cell_type": "code",
   "execution_count": 34,
   "id": "e0b83ad7",
   "metadata": {},
   "outputs": [],
   "source": [
    "triplet_model = TripletNetwork()\n",
    "\n",
    "lr = 1e-3\n",
    "optimizer = torch.optim.Adam(triplet_model.parameters(), lr=lr)\n",
    "criterion = nn.TripletMarginLoss(margin=1, p=2)"
   ]
  },
  {
   "cell_type": "code",
   "execution_count": 35,
   "id": "0684e2a2",
   "metadata": {
    "scrolled": false
   },
   "outputs": [
    {
     "name": "stdout",
     "output_type": "stream",
     "text": [
      "Epoch: 1 \t Training Loss: 0.991892\n",
      "Epoch: 2 \t Training Loss: 0.940269\n",
      "Epoch: 3 \t Training Loss: 0.797727\n",
      "Epoch: 4 \t Training Loss: 0.682578\n",
      "Epoch: 5 \t Training Loss: 0.585928\n",
      "Epoch: 6 \t Training Loss: 0.507791\n",
      "Epoch: 7 \t Training Loss: 0.445580\n",
      "Epoch: 8 \t Training Loss: 0.378942\n",
      "Epoch: 9 \t Training Loss: 0.265238\n",
      "Epoch: 10 \t Training Loss: 0.198486\n",
      "Epoch: 11 \t Training Loss: 0.170793\n",
      "Epoch: 12 \t Training Loss: 0.128204\n",
      "Epoch: 13 \t Training Loss: 0.086172\n",
      "Epoch: 14 \t Training Loss: 0.045702\n",
      "Epoch: 15 \t Training Loss: 0.054405\n",
      "Epoch: 16 \t Training Loss: 0.039730\n",
      "Epoch: 17 \t Training Loss: 0.018742\n",
      "Epoch: 18 \t Training Loss: 0.023841\n",
      "Epoch: 19 \t Training Loss: 0.019687\n",
      "Epoch: 20 \t Training Loss: 0.035577\n"
     ]
    }
   ],
   "source": [
    "n_epochs = 20\n",
    "\n",
    "for epoch in range(n_epochs):\n",
    "    triplet_model.train()\n",
    "\n",
    "    train_loss = 0\n",
    "\n",
    "    for pan, y in triplet_train_loader:\n",
    "        pos, anc, neg = pan\n",
    "        optimizer.zero_grad()\n",
    "        p, a, n = triplet_model(pos, anc, neg)\n",
    "        loss = criterion(a, p, n)\n",
    "        \n",
    "        train_loss += loss.item()\n",
    "        \n",
    "        loss.backward()\n",
    "        optimizer.step()\n",
    "    \n",
    "    train_loss = train_loss / len(triplet_train_loader)\n",
    "    print('Epoch: {} \\t Training Loss: {:.6f}'.format(epoch+1, train_loss))"
   ]
  },
  {
   "cell_type": "code",
   "execution_count": 40,
   "id": "aded395c",
   "metadata": {},
   "outputs": [],
   "source": [
    "# ref: https://github.com/adambielski/siamese-triplet\n",
    "def extract_embeddings(dataloader, model):\n",
    "    with torch.no_grad():\n",
    "        model.eval()\n",
    "        embeddings = np.zeros((len(dataloader.dataset), 336))\n",
    "        labels = np.zeros(len(dataloader.dataset))\n",
    "        k = 0\n",
    "        for pan, target in dataloader:\n",
    "            pos, anc, neg = pan\n",
    "            embeddings[k:k+len(anc)] = model.get_learned_vector(anc).data.cpu().numpy()\n",
    "            labels[k:k+len(anc)] = np.array(target)\n",
    "            k += len(anc)\n",
    "    return embeddings, labels"
   ]
  },
  {
   "cell_type": "code",
   "execution_count": 41,
   "id": "598baf40",
   "metadata": {},
   "outputs": [],
   "source": [
    "train_embeddings_tl, train_labels_tl = extract_embeddings(triplet_train_loader, triplet_model)\n",
    "test_embeddings_tl, test_labels_tl   = extract_embeddings(triplet_test_loader, triplet_model)"
   ]
  },
  {
   "cell_type": "markdown",
   "id": "585c9650",
   "metadata": {},
   "source": [
    "### K Nearest Neighbor to predict patients' similarity/risk"
   ]
  },
  {
   "cell_type": "code",
   "execution_count": 44,
   "id": "4ad80744",
   "metadata": {},
   "outputs": [],
   "source": [
    "from sklearn.neighbors import KNeighborsClassifier, NearestNeighbors\n",
    "from sklearn.cluster import KMeans\n",
    "from sklearn.metrics.pairwise import euclidean_distances\n",
    "from sklearn.metrics import accuracy_score, recall_score, precision_score, f1_score\n",
    "from sklearn import metrics\n",
    "from sklearn.metrics.cluster import rand_score, normalized_mutual_info_score"
   ]
  },
  {
   "cell_type": "code",
   "execution_count": 49,
   "id": "6faf87a6",
   "metadata": {},
   "outputs": [],
   "source": [
    "# ref: Purity: https://stackoverflow.com/questions/34047540/python-clustering-purity-metric\n",
    "def purity_score(y_true, y_pred):\n",
    "    contingency_matrix = metrics.cluster.contingency_matrix(y_true, y_pred)\n",
    "    return np.sum(np.amax(contingency_matrix, axis=0)) / np.sum(contingency_matrix) "
   ]
  },
  {
   "cell_type": "code",
   "execution_count": 50,
   "id": "ac74ab7f",
   "metadata": {},
   "outputs": [
    {
     "data": {
      "text/plain": [
       "KNeighborsClassifier()"
      ]
     },
     "execution_count": 50,
     "metadata": {},
     "output_type": "execute_result"
    }
   ],
   "source": [
    "knn_emb = KNeighborsClassifier(n_neighbors=5)\n",
    "knn_emb.fit(train_embeddings_tl, train_labels_tl)"
   ]
  },
  {
   "cell_type": "markdown",
   "id": "4165f720",
   "metadata": {},
   "source": [
    "### Evaluate the triplet model"
   ]
  },
  {
   "cell_type": "code",
   "execution_count": 51,
   "id": "6f21ce75",
   "metadata": {},
   "outputs": [],
   "source": [
    "baseline_k = 5"
   ]
  },
  {
   "cell_type": "code",
   "execution_count": 52,
   "id": "d0a0d613",
   "metadata": {
    "scrolled": false
   },
   "outputs": [
    {
     "name": "stdout",
     "output_type": "stream",
     "text": [
      "CNN Triplet (K=5), Accuracy: 0.5259259259259259\n",
      "CNN Triplet (K=5), Recall: 0.5198135198135199\n",
      "CNN Triplet (K=5), Precision: 0.5191358024691358\n",
      "CNN Triplet (K=5), F1 Score: 0.5191717899795067\n",
      "CNN Triplet (K=5), RI: 0.5988944168048645\n",
      "CNN Triplet (K=5), Purity: 0.5259259259259259\n",
      "CNN Triplet (K=5), NMI: 0.09968024619605426\n"
     ]
    }
   ],
   "source": [
    "test_preds = []\n",
    "for ii, test_i in enumerate(test_embeddings_tl):\n",
    "    test_i = test_i.reshape((1, -1))\n",
    "    d, idx = knn_emb.kneighbors(test_i)\n",
    "    # print('Ground Truth Label: {}'.format(test_labels_tl[ii]))\n",
    "    unique, counts = np.unique(train_labels_tl[idx].astype(int), return_counts=True)\n",
    "    test_preds.append(unique[0]) # first elem with the most count\n",
    "\n",
    "print('CNN Triplet (K={}), Accuracy: {}'.format(baseline_k, accuracy_score(test_labels_tl, test_preds)))\n",
    "print('CNN Triplet (K={}), Recall: {}'.format(baseline_k, recall_score(test_labels_tl, test_preds, average='macro')))\n",
    "print('CNN Triplet (K={}), Precision: {}'.format(baseline_k, precision_score(test_labels_tl, test_preds, average='macro')))\n",
    "print('CNN Triplet (K={}), F1 Score: {}'.format(baseline_k, f1_score(test_labels_tl, test_preds, average='macro')))\n",
    "print('CNN Triplet (K={}), RI: {}'.format(baseline_k, rand_score(test_labels_tl, test_preds)))\n",
    "print('CNN Triplet (K={}), Purity: {}'.format(baseline_k, purity_score(test_labels_tl, test_preds)))\n",
    "print('CNN Triplet (K={}), NMI: {}'.format(baseline_k, normalized_mutual_info_score(test_labels_tl, test_preds)))"
   ]
  },
  {
   "cell_type": "markdown",
   "id": "31e576d7",
   "metadata": {},
   "source": [
    "### Use k-mean for patient clustering"
   ]
  },
  {
   "cell_type": "code",
   "execution_count": 53,
   "id": "50e323aa",
   "metadata": {},
   "outputs": [],
   "source": [
    "kmeans_emb = KMeans(n_clusters=3, random_state=12345).fit(train_embeddings_tl, train_labels_tl)"
   ]
  },
  {
   "cell_type": "code",
   "execution_count": 54,
   "id": "e0c8784a",
   "metadata": {},
   "outputs": [
    {
     "name": "stdout",
     "output_type": "stream",
     "text": [
      "[0 0 0 1 2 2 0 0 0 0]\n",
      "[5849. 5849. 5849. 4019. 4280. 4280. 5849. 5849. 5849. 5849.]\n"
     ]
    }
   ],
   "source": [
    "print(kmeans_emb.labels_[:10])\n",
    "print(train_labels_tl[:10])"
   ]
  },
  {
   "cell_type": "code",
   "execution_count": 55,
   "id": "9c00b6e6",
   "metadata": {},
   "outputs": [],
   "source": [
    "kmeans_emb_pred = kmeans_emb.predict(test_embeddings_tl)"
   ]
  },
  {
   "cell_type": "code",
   "execution_count": 56,
   "id": "5872dbbd",
   "metadata": {},
   "outputs": [],
   "source": [
    "test_kmean_label = []\n",
    "for item in test_labels_tl:\n",
    "    if int(item) == 5849:\n",
    "        test_kmean_label.append(2)\n",
    "    if int(item) == 4280:\n",
    "        test_kmean_label.append(0)\n",
    "    if int(item) == 4019:\n",
    "        test_kmean_label.append(1)"
   ]
  },
  {
   "cell_type": "code",
   "execution_count": 57,
   "id": "6dd7f0ba",
   "metadata": {},
   "outputs": [
    {
     "name": "stdout",
     "output_type": "stream",
     "text": [
      "Triplet (K=3), RI: 0.5438363736871199\n",
      "Triplet (K=3), Purity: 0.45185185185185184\n",
      "Triplet (K=3), NMI: 0.04187411162148437\n"
     ]
    }
   ],
   "source": [
    "print('Triplet (K={}), RI: {}'.format(3, rand_score(test_kmean_label, kmeans_emb_pred)))\n",
    "print('Triplet (K={}), Purity: {}'.format(3, purity_score(test_kmean_label, kmeans_emb_pred)))\n",
    "print('Triplet (K={}), NMI: {}'.format(3, normalized_mutual_info_score(test_kmean_label, kmeans_emb_pred)))"
   ]
  },
  {
   "cell_type": "code",
   "execution_count": 58,
   "id": "c356e1ed",
   "metadata": {},
   "outputs": [],
   "source": [
    "from sklearn.decomposition import PCA"
   ]
  },
  {
   "cell_type": "code",
   "execution_count": 59,
   "id": "3d52bede",
   "metadata": {},
   "outputs": [],
   "source": [
    "pca = PCA(2)\n",
    "transformed_emb = pca.fit_transform(test_embeddings_tl)"
   ]
  },
  {
   "cell_type": "code",
   "execution_count": 60,
   "id": "29aba15c",
   "metadata": {
    "scrolled": true
   },
   "outputs": [
    {
     "data": {
      "image/png": "[encoded data removed]",
      "text/plain": [
       "<Figure size 576x576 with 1 Axes>"
      ]
     },
     "metadata": {
      "needs_background": "light"
     },
     "output_type": "display_data"
    }
   ],
   "source": [
    "filtered_label0 = transformed_emb[kmeans_emb_pred == 0]\n",
    "filtered_label1 = transformed_emb[kmeans_emb_pred == 1]\n",
    "filtered_label2 = transformed_emb[kmeans_emb_pred == 2]\n",
    "plt.figure(figsize=(8,8))\n",
    "plt.title(\"Transformed Space on CNN-Triplet\")\n",
    "plt.scatter(filtered_label0[:,0] , filtered_label0[:,1], color='yellow')\n",
    "plt.scatter(filtered_label1[:,0] , filtered_label1[:,1], color='teal')\n",
    "plt.scatter(filtered_label2[:,0] , filtered_label2[:,1], color='purple')\n",
    "plt.show()"
   ]
  },
  {
   "cell_type": "code",
   "execution_count": 63,
   "id": "217cadea",
   "metadata": {
    "scrolled": true
   },
   "outputs": [
    {
     "name": "stdout",
     "output_type": "stream",
     "text": [
      "torch.Size([672, 56350])\n",
      "torch.Size([135, 56350])\n"
     ]
    }
   ],
   "source": [
    "knn_train_x = []\n",
    "knn_train_y = []\n",
    "for x_i, y_i in train_loader:\n",
    "    x_i = x_i.view(len(x_i), -1)\n",
    "    knn_train_x.append(x_i)\n",
    "    knn_train_y.append(y_i)\n",
    "    \n",
    "knn_train_x = torch.cat(knn_train_x, dim=0)\n",
    "knn_train_y = torch.cat(knn_train_y, dim=0)\n",
    "print(knn_train_x.size())\n",
    "\n",
    "knn_test_x = []\n",
    "knn_test_y = []\n",
    "for x_i, y_i in test_loader:\n",
    "    x_i = x_i.view(len(x_i), -1)\n",
    "    knn_test_x.append(x_i)\n",
    "    knn_test_y.append(y_i)\n",
    "    \n",
    "knn_test_x = torch.cat(knn_test_x, dim=0)\n",
    "knn_test_y = torch.cat(knn_test_y, dim=0)\n",
    "print(knn_test_x.size())"
   ]
  },
  {
   "cell_type": "markdown",
   "id": "3de3cd55",
   "metadata": {},
   "source": [
    "### k-nearest neighbors, k=3"
   ]
  },
  {
   "cell_type": "code",
   "execution_count": 64,
   "id": "65cfa5f6",
   "metadata": {},
   "outputs": [],
   "source": [
    "kmeans_euc      = KMeans(n_clusters=3, random_state=12345).fit(knn_train_x, knn_train_y)\n",
    "kmeans_euc_pred = kmeans_euc.predict(knn_test_x)"
   ]
  },
  {
   "cell_type": "code",
   "execution_count": 65,
   "id": "1b7f6dd5",
   "metadata": {},
   "outputs": [
    {
     "name": "stdout",
     "output_type": "stream",
     "text": [
      "Triplet (K=3), RI: 0.5774461028192371\n",
      "Triplet (K=3), Purity: 0.4740740740740741\n",
      "Triplet (K=3), NMI: 0.058591986489670775\n"
     ]
    }
   ],
   "source": [
    "# map new ground truth label\n",
    "# not useful\n",
    "test_knn_label = []\n",
    "for item in knn_test_y:\n",
    "    if int(item) == 5849:\n",
    "        test_knn_label.append(2)\n",
    "    if int(item) == 4280:\n",
    "        test_knn_label.append(0)\n",
    "    if int(item) == 4019:\n",
    "        test_knn_label.append(1)\n",
    "        \n",
    "print('Triplet (K={}), RI: {}'.format(3, rand_score(test_knn_label, kmeans_euc_pred)))\n",
    "print('Triplet (K={}), Purity: {}'.format(3, purity_score(test_knn_label, kmeans_euc_pred)))\n",
    "print('Triplet (K={}), NMI: {}'.format(3, normalized_mutual_info_score(test_knn_label, kmeans_euc_pred)))"
   ]
  },
  {
   "cell_type": "markdown",
   "id": "9317217f",
   "metadata": {},
   "source": [
    "## 1 Baseline models\n",
    "k-means, k=3\n",
    "GMML, LMNN, ITML, CNN_tripplet"
   ]
  },
  {
   "cell_type": "markdown",
   "id": "88309c03",
   "metadata": {},
   "source": [
    "Euclidean and Cosine distances on raw inputs, without mapping parameter to be learning"
   ]
  },
  {
   "cell_type": "markdown",
   "id": "84d032a3",
   "metadata": {},
   "source": [
    "### 1.2 KNN using Euclidean Distance\n",
    "ref: https://medium.com/analytics-vidhya/a-beginners-guide-to-knn-and-mnist-handwritten-digits-recognition-using-knn-from-scratch-df6fb982748a"
   ]
  },
  {
   "cell_type": "code",
   "execution_count": 66,
   "id": "05c12085",
   "metadata": {},
   "outputs": [
    {
     "name": "stdout",
     "output_type": "stream",
     "text": [
      "Euclidean Distance (K=5), Accuracy: 0.37037037037037035\n",
      "Euclidean Distance (K=5), Recall: 0.3830613830613831\n",
      "Euclidean Distance (K=5), Precision: 0.406006006006006\n",
      "Euclidean Distance (K=5), F1 Score: 0.299294252828538\n",
      "Euclidean Distance (K=5), RI: 0.4435599778883361\n",
      "Euclidean Distance (K=5), Purity: 0.4074074074074074\n",
      "Euclidean Distance (K=5), NMI: 0.025192253540854418\n"
     ]
    }
   ],
   "source": [
    "model = KNeighborsClassifier(n_neighbors=baseline_k, metric=\"euclidean\")\n",
    "model.fit(knn_train_x, knn_train_y)\n",
    "\n",
    "knn_test_pred = model.predict(knn_test_x)\n",
    "accuracy = accuracy_score(knn_test_y, knn_test_pred)\n",
    "print('Euclidean Distance (K={}), Accuracy: {}'.format(baseline_k, accuracy))\n",
    "print('Euclidean Distance (K={}), Recall: {}'.format(baseline_k, recall_score(knn_test_y, knn_test_pred, average='macro')))\n",
    "print('Euclidean Distance (K={}), Precision: {}'.format(baseline_k, precision_score(knn_test_y, knn_test_pred, average='macro')))\n",
    "print('Euclidean Distance (K={}), F1 Score: {}'.format(baseline_k, f1_score(knn_test_y, knn_test_pred, average='macro')))\n",
    "print('Euclidean Distance (K={}), RI: {}'.format(baseline_k, rand_score(knn_test_y, knn_test_pred)))\n",
    "print('Euclidean Distance (K={}), Purity: {}'.format(baseline_k, purity_score(knn_test_y, knn_test_pred)))\n",
    "print('Euclidean Distance (K={}), NMI: {}'.format(baseline_k, normalized_mutual_info_score(knn_test_y, knn_test_pred)))"
   ]
  },
  {
   "cell_type": "code",
   "execution_count": 67,
   "id": "d889ae13",
   "metadata": {},
   "outputs": [],
   "source": [
    "transformed_euc = pca.fit_transform(knn_test_x)"
   ]
  },
  {
   "cell_type": "code",
   "execution_count": 68,
   "id": "5c18b81d",
   "metadata": {},
   "outputs": [
    {
     "data": {
      "image/png": "[encoded data removed]",
      "text/plain": [
       "<Figure size 576x576 with 1 Axes>"
      ]
     },
     "metadata": {
      "needs_background": "light"
     },
     "output_type": "display_data"
    }
   ],
   "source": [
    "filtered_label0 = transformed_euc[kmeans_emb_pred == 0]\n",
    "filtered_label1 = transformed_euc[kmeans_emb_pred == 1]\n",
    "filtered_label2 = transformed_euc[kmeans_emb_pred == 2]\n",
    "plt.figure(figsize=(8,8))\n",
    "plt.title(\"Transformed Space on Euclidean Metric\")\n",
    "plt.scatter(filtered_label0[:,0] , filtered_label0[:,1], color='yellow')\n",
    "plt.scatter(filtered_label1[:,0] , filtered_label1[:,1], color='teal')\n",
    "plt.scatter(filtered_label2[:,0] , filtered_label2[:,1], color='purple')\n",
    "plt.show()"
   ]
  },
  {
   "cell_type": "markdown",
   "id": "4d30da43",
   "metadata": {},
   "source": [
    "### 1.3 KNN using Cosine Distance"
   ]
  },
  {
   "cell_type": "code",
   "execution_count": 69,
   "id": "130d6128",
   "metadata": {},
   "outputs": [
    {
     "name": "stdout",
     "output_type": "stream",
     "text": [
      "Cosine Distance (K=5), Accuracy: 0.4\n",
      "Cosine Distance (K=5), Recall: 0.4104506604506604\n",
      "Cosine Distance (K=5), Precision: 0.408662613981763\n",
      "Cosine Distance (K=5), F1 Score: 0.39396243291592126\n",
      "Cosine Distance (K=5), RI: 0.5480375898286346\n",
      "Cosine Distance (K=5), Purity: 0.4148148148148148\n",
      "Cosine Distance (K=5), NMI: 0.016225597564083517\n"
     ]
    }
   ],
   "source": [
    "model = KNeighborsClassifier(n_neighbors=baseline_k, metric=\"cosine\")\n",
    "model.fit(knn_train_x, knn_train_y)\n",
    "\n",
    "knn_test_pred = model.predict(knn_test_x)\n",
    "accuracy = accuracy_score(knn_test_y, knn_test_pred)\n",
    "print('Cosine Distance (K={}), Accuracy: {}'.format(baseline_k, accuracy))\n",
    "print('Cosine Distance (K={}), Recall: {}'.format(baseline_k, recall_score(knn_test_y, knn_test_pred, average='macro')))\n",
    "print('Cosine Distance (K={}), Precision: {}'.format(baseline_k, precision_score(knn_test_y, knn_test_pred, average='macro')))\n",
    "print('Cosine Distance (K={}), F1 Score: {}'.format(baseline_k, f1_score(knn_test_y, knn_test_pred, average='macro')))\n",
    "print('Cosine Distance (K={}), RI: {}'.format(baseline_k, rand_score(knn_test_y, knn_test_pred)))\n",
    "print('Cosine Distance (K={}), Purity: {}'.format(baseline_k, purity_score(knn_test_y, knn_test_pred)))\n",
    "print('Cosine Distance (K={}), NMI: {}'.format(baseline_k, normalized_mutual_info_score(knn_test_y, knn_test_pred)))"
   ]
  },
  {
   "cell_type": "markdown",
   "id": "fb2c5956",
   "metadata": {},
   "source": [
    "### Aggregated Vector Representation"
   ]
  },
  {
   "cell_type": "code",
   "execution_count": 70,
   "id": "c9afc377",
   "metadata": {},
   "outputs": [
    {
     "name": "stdout",
     "output_type": "stream",
     "text": [
      "knn_aggr_train_x: torch.Size([672, 2450])\n",
      "knn_aggr_test_x: torch.Size([135, 2450])\n"
     ]
    }
   ],
   "source": [
    "knn_aggr_train_x = []\n",
    "knn_aggr_train_y = []\n",
    "for x_i, y_i in train_loader:\n",
    "    x_i = x_i.sum(dim=1)\n",
    "    knn_aggr_train_x.append(x_i)\n",
    "    knn_aggr_train_y.append(y_i)\n",
    "    \n",
    "knn_aggr_train_x = torch.cat(knn_aggr_train_x, dim=0)\n",
    "knn_aggr_train_y = torch.cat(knn_aggr_train_y, dim=0)\n",
    "print('knn_aggr_train_x: {}'.format(knn_aggr_train_x.size()))\n",
    "\n",
    "knn_aggr_test_x = []\n",
    "knn_aggr_test_y = []\n",
    "for x_i, y_i in test_loader:\n",
    "    x_i = x_i.sum(dim=1)\n",
    "    knn_aggr_test_x.append(x_i)\n",
    "    knn_aggr_test_y.append(y_i)\n",
    "    \n",
    "knn_aggr_test_x = torch.cat(knn_aggr_test_x, dim=0)\n",
    "knn_aggr_test_y = torch.cat(knn_aggr_test_y, dim=0)\n",
    "print('knn_aggr_test_x: {}'.format(knn_aggr_test_x.size()))"
   ]
  },
  {
   "cell_type": "markdown",
   "id": "0ac28b20",
   "metadata": {},
   "source": [
    "### 1.4 KNN using Mahalanobis Distance - Failed!"
   ]
  },
  {
   "cell_type": "code",
   "execution_count": 71,
   "id": "6606eb73",
   "metadata": {
    "scrolled": true
   },
   "outputs": [
    {
     "ename": "LinAlgError",
     "evalue": "Singular matrix",
     "output_type": "error",
     "traceback": [
      "\u001b[0;31m---------------------------------------------------------------------------\u001b[0m",
      "\u001b[0;31mLinAlgError\u001b[0m                               Traceback (most recent call last)",
      "\u001b[0;32m/var/folders/t_/s4b0_s2j2hb4hh8xr3vl2wx00000gn/T/ipykernel_37091/158444058.py\u001b[0m in \u001b[0;36m<module>\u001b[0;34m\u001b[0m\n\u001b[1;32m      1\u001b[0m \u001b[0;31m# ITML: Mahalanobis Distance\u001b[0m\u001b[0;34m\u001b[0m\u001b[0;34m\u001b[0m\u001b[0;34m\u001b[0m\u001b[0m\n\u001b[1;32m      2\u001b[0m \u001b[0mknn_aggr_train_x_cov\u001b[0m \u001b[0;34m=\u001b[0m \u001b[0mnp\u001b[0m\u001b[0;34m.\u001b[0m\u001b[0mcov\u001b[0m\u001b[0;34m(\u001b[0m\u001b[0mknn_aggr_train_x\u001b[0m\u001b[0;34m,\u001b[0m \u001b[0mrowvar\u001b[0m\u001b[0;34m=\u001b[0m\u001b[0;32mFalse\u001b[0m\u001b[0;34m)\u001b[0m\u001b[0;34m\u001b[0m\u001b[0;34m\u001b[0m\u001b[0m\n\u001b[0;32m----> 3\u001b[0;31m \u001b[0mknn_aggr_train_x_cov_inv\u001b[0m \u001b[0;34m=\u001b[0m \u001b[0mnp\u001b[0m\u001b[0;34m.\u001b[0m\u001b[0mlinalg\u001b[0m\u001b[0;34m.\u001b[0m\u001b[0minv\u001b[0m\u001b[0;34m(\u001b[0m\u001b[0mknn_aggr_train_x_cov\u001b[0m\u001b[0;34m)\u001b[0m\u001b[0;34m\u001b[0m\u001b[0;34m\u001b[0m\u001b[0m\n\u001b[0m\u001b[1;32m      4\u001b[0m \u001b[0;34m\u001b[0m\u001b[0m\n\u001b[1;32m      5\u001b[0m \u001b[0mmodel\u001b[0m \u001b[0;34m=\u001b[0m \u001b[0mKNeighborsClassifier\u001b[0m\u001b[0;34m(\u001b[0m\u001b[0mn_neighbors\u001b[0m\u001b[0;34m=\u001b[0m\u001b[0mbaseline_k\u001b[0m\u001b[0;34m,\u001b[0m \u001b[0mmetric\u001b[0m\u001b[0;34m=\u001b[0m\u001b[0;34m\"mahalanobis\"\u001b[0m\u001b[0;34m,\u001b[0m \u001b[0mmetric_params\u001b[0m\u001b[0;34m=\u001b[0m\u001b[0;34m{\u001b[0m\u001b[0;34m'VI'\u001b[0m\u001b[0;34m:\u001b[0m \u001b[0mknn_aggr_train_x_cov_inv\u001b[0m\u001b[0;34m}\u001b[0m\u001b[0;34m)\u001b[0m\u001b[0;34m\u001b[0m\u001b[0;34m\u001b[0m\u001b[0m\n",
      "\u001b[0;32m<__array_function__ internals>\u001b[0m in \u001b[0;36minv\u001b[0;34m(*args, **kwargs)\u001b[0m\n",
      "\u001b[0;32m~/miniforge3/envs/mirror/lib/python3.8/site-packages/numpy/linalg/linalg.py\u001b[0m in \u001b[0;36minv\u001b[0;34m(a)\u001b[0m\n\u001b[1;32m    544\u001b[0m     \u001b[0msignature\u001b[0m \u001b[0;34m=\u001b[0m \u001b[0;34m'D->D'\u001b[0m \u001b[0;32mif\u001b[0m \u001b[0misComplexType\u001b[0m\u001b[0;34m(\u001b[0m\u001b[0mt\u001b[0m\u001b[0;34m)\u001b[0m \u001b[0;32melse\u001b[0m \u001b[0;34m'd->d'\u001b[0m\u001b[0;34m\u001b[0m\u001b[0;34m\u001b[0m\u001b[0m\n\u001b[1;32m    545\u001b[0m     \u001b[0mextobj\u001b[0m \u001b[0;34m=\u001b[0m \u001b[0mget_linalg_error_extobj\u001b[0m\u001b[0;34m(\u001b[0m\u001b[0m_raise_linalgerror_singular\u001b[0m\u001b[0;34m)\u001b[0m\u001b[0;34m\u001b[0m\u001b[0;34m\u001b[0m\u001b[0m\n\u001b[0;32m--> 546\u001b[0;31m     \u001b[0mainv\u001b[0m \u001b[0;34m=\u001b[0m \u001b[0m_umath_linalg\u001b[0m\u001b[0;34m.\u001b[0m\u001b[0minv\u001b[0m\u001b[0;34m(\u001b[0m\u001b[0ma\u001b[0m\u001b[0;34m,\u001b[0m \u001b[0msignature\u001b[0m\u001b[0;34m=\u001b[0m\u001b[0msignature\u001b[0m\u001b[0;34m,\u001b[0m \u001b[0mextobj\u001b[0m\u001b[0;34m=\u001b[0m\u001b[0mextobj\u001b[0m\u001b[0;34m)\u001b[0m\u001b[0;34m\u001b[0m\u001b[0;34m\u001b[0m\u001b[0m\n\u001b[0m\u001b[1;32m    547\u001b[0m     \u001b[0;32mreturn\u001b[0m \u001b[0mwrap\u001b[0m\u001b[0;34m(\u001b[0m\u001b[0mainv\u001b[0m\u001b[0;34m.\u001b[0m\u001b[0mastype\u001b[0m\u001b[0;34m(\u001b[0m\u001b[0mresult_t\u001b[0m\u001b[0;34m,\u001b[0m \u001b[0mcopy\u001b[0m\u001b[0;34m=\u001b[0m\u001b[0;32mFalse\u001b[0m\u001b[0;34m)\u001b[0m\u001b[0;34m)\u001b[0m\u001b[0;34m\u001b[0m\u001b[0;34m\u001b[0m\u001b[0m\n\u001b[1;32m    548\u001b[0m \u001b[0;34m\u001b[0m\u001b[0m\n",
      "\u001b[0;32m~/miniforge3/envs/mirror/lib/python3.8/site-packages/numpy/linalg/linalg.py\u001b[0m in \u001b[0;36m_raise_linalgerror_singular\u001b[0;34m(err, flag)\u001b[0m\n\u001b[1;32m     86\u001b[0m \u001b[0;34m\u001b[0m\u001b[0m\n\u001b[1;32m     87\u001b[0m \u001b[0;32mdef\u001b[0m \u001b[0m_raise_linalgerror_singular\u001b[0m\u001b[0;34m(\u001b[0m\u001b[0merr\u001b[0m\u001b[0;34m,\u001b[0m \u001b[0mflag\u001b[0m\u001b[0;34m)\u001b[0m\u001b[0;34m:\u001b[0m\u001b[0;34m\u001b[0m\u001b[0;34m\u001b[0m\u001b[0m\n\u001b[0;32m---> 88\u001b[0;31m     \u001b[0;32mraise\u001b[0m \u001b[0mLinAlgError\u001b[0m\u001b[0;34m(\u001b[0m\u001b[0;34m\"Singular matrix\"\u001b[0m\u001b[0;34m)\u001b[0m\u001b[0;34m\u001b[0m\u001b[0;34m\u001b[0m\u001b[0m\n\u001b[0m\u001b[1;32m     89\u001b[0m \u001b[0;34m\u001b[0m\u001b[0m\n\u001b[1;32m     90\u001b[0m \u001b[0;32mdef\u001b[0m \u001b[0m_raise_linalgerror_nonposdef\u001b[0m\u001b[0;34m(\u001b[0m\u001b[0merr\u001b[0m\u001b[0;34m,\u001b[0m \u001b[0mflag\u001b[0m\u001b[0;34m)\u001b[0m\u001b[0;34m:\u001b[0m\u001b[0;34m\u001b[0m\u001b[0;34m\u001b[0m\u001b[0m\n",
      "\u001b[0;31mLinAlgError\u001b[0m: Singular matrix"
     ]
    }
   ],
   "source": [
    "# ITML: Mahalanobis Distance\n",
    "knn_aggr_train_x_cov = np.cov(knn_aggr_train_x, rowvar=False)\n",
    "knn_aggr_train_x_cov_inv = np.linalg.inv(knn_aggr_train_x_cov)\n",
    "\n",
    "model = KNeighborsClassifier(n_neighbors=baseline_k, metric=\"mahalanobis\", metric_params={'VI': knn_aggr_train_x_cov_inv})\n",
    "model.fit(knn_aggr_train_x, knn_aggr_train_y)\n",
    "\n",
    "knn_test_pred = model.predict(knn_aggr_test_x)\n",
    "accuracy = accuracy_score(knn_aggr_test_y, knn_test_pred)\n",
    "print('Euclidean Distance, K={}, Accuracy: {}'.format(k, accuracy))"
   ]
  },
  {
   "cell_type": "markdown",
   "id": "c74ab4e2",
   "metadata": {},
   "source": [
    "### Create train and test triplets for baseline models"
   ]
  },
  {
   "cell_type": "code",
   "execution_count": 72,
   "id": "2a07d20d",
   "metadata": {},
   "outputs": [
    {
     "name": "stdout",
     "output_type": "stream",
     "text": [
      "knn_triplet_train_x: torch.Size([672, 3, 2450])\n",
      "knn_triplet_train_y: torch.Size([672])\n",
      "knn_triplet_test_x: torch.Size([135, 3, 2450])\n",
      "knn_triplet_test_y: torch.Size([135])\n"
     ]
    }
   ],
   "source": [
    "knn_triplet_train_x = []\n",
    "knn_triplet_train_y = []\n",
    "for pan, y in triplet_train_loader:\n",
    "    pos, anc, neg = pan\n",
    "    pos = pos.sum(dim=1).unsqueeze(1)\n",
    "    anc = anc.sum(dim=1).unsqueeze(1)\n",
    "    neg = neg.sum(dim=1).unsqueeze(1)\n",
    "    \n",
    "    combine = torch.cat((pos, anc, neg), 1)\n",
    "    knn_triplet_train_x.append(combine)\n",
    "    knn_triplet_train_y.append(torch.tensor(y))\n",
    "\n",
    "knn_triplet_train_x = torch.cat(knn_triplet_train_x, dim=0)\n",
    "knn_triplet_train_y = torch.cat(knn_triplet_train_y, dim=0)\n",
    "\n",
    "print('knn_triplet_train_x: {}'.format(knn_triplet_train_x.size()))\n",
    "print('knn_triplet_train_y: {}'.format(knn_triplet_train_y.size()))\n",
    "\n",
    "knn_triplet_test_x = []\n",
    "knn_triplet_test_y = []\n",
    "for pan, y in triplet_test_loader:\n",
    "    pos, anc, neg = pan\n",
    "    pos = pos.sum(dim=1).unsqueeze(1)\n",
    "    anc = anc.sum(dim=1).unsqueeze(1)\n",
    "    neg = neg.sum(dim=1).unsqueeze(1)\n",
    "    \n",
    "    combine = torch.cat((pos, anc, neg), 1)\n",
    "    knn_triplet_test_x.append(combine)\n",
    "    knn_triplet_test_y.append(torch.tensor(y))\n",
    "\n",
    "knn_triplet_test_x = torch.cat(knn_triplet_test_x, dim=0)\n",
    "knn_triplet_test_y = torch.cat(knn_triplet_test_y, dim=0)\n",
    "\n",
    "print('knn_triplet_test_x: {}'.format(knn_triplet_test_x.size()))\n",
    "print('knn_triplet_test_y: {}'.format(knn_triplet_test_y.size()))"
   ]
  },
  {
   "cell_type": "markdown",
   "id": "91a7df86",
   "metadata": {},
   "source": [
    "### 1.5 SCML - unable to train"
   ]
  },
  {
   "cell_type": "code",
   "execution_count": null,
   "id": "4a69ab29",
   "metadata": {},
   "outputs": [],
   "source": [
    "from metric_learn import LMNN, SCML, SCML_Supervised"
   ]
  },
  {
   "cell_type": "markdown",
   "id": "d99997a7",
   "metadata": {},
   "source": [
    "### 1.6 LMNN - failed, no prediction"
   ]
  },
  {
   "cell_type": "code",
   "execution_count": null,
   "id": "0f5a5ba5",
   "metadata": {},
   "outputs": [],
   "source": [
    "lmnn = LMNN(k=3, min_iter=5, max_iter=10, learn_rate=1e-6)\n",
    "lmnn.fit(knn_aggr_train_x, knn_aggr_train_y)\n",
    "\n",
    "#knn_test_pred = lmnn.predict(knn_aggr_test_x)\n",
    "#accuracy = accuracy_score(knn_aggr_test_y, knn_test_pred)\n",
    "#print('LMNN, K={}, Accuracy: {}'.format(k, accuracy))"
   ]
  },
  {
   "cell_type": "markdown",
   "id": "e9eeef31",
   "metadata": {},
   "source": []
  }
 ],
 "metadata": {
  "kernelspec": {
   "display_name": "Python 3 (ipykernel)",
   "language": "python",
   "name": "python3"
  },
  "language_info": {
   "codemirror_mode": {
    "name": "ipython",
    "version": 3
   },
   "file_extension": ".py",
   "mimetype": "text/x-python",
   "name": "python",
   "nbconvert_exporter": "python",
   "pygments_lexer": "ipython3",
   "version": "3.8.11"
  }
 },
 "nbformat": 4,
 "nbformat_minor": 5
}
