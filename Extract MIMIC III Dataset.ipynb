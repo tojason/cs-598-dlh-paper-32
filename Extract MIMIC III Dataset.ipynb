{
 "cells": [
  {
   "cell_type": "code",
   "execution_count": 155,
   "id": "bc3bf621",
   "metadata": {},
   "outputs": [],
   "source": [
    "import pandas as pd\n",
    "import os\n",
    "import pickle\n",
    "from tqdm import tqdm\n",
    "import numpy as np"
   ]
  },
  {
   "cell_type": "code",
   "execution_count": 2,
   "id": "81dc7d43",
   "metadata": {},
   "outputs": [],
   "source": [
    "DATA_PATH = 'mimic-iii'"
   ]
  },
  {
   "cell_type": "code",
   "execution_count": 3,
   "id": "08f8b01e",
   "metadata": {},
   "outputs": [
    {
     "name": "stdout",
     "output_type": "stream",
     "text": [
      "Length of DIAGNOSES_ICD: 651047\n"
     ]
    }
   ],
   "source": [
    "DIAGNOSES_ICD = pd.read_csv(os.path.join(DATA_PATH, 'DIAGNOSES_ICD.csv'))\n",
    "print('Length of DIAGNOSES_ICD: {}'.format(len(DIAGNOSES_ICD)))"
   ]
  },
  {
   "cell_type": "code",
   "execution_count": 6,
   "id": "fcd4e949",
   "metadata": {},
   "outputs": [],
   "source": [
    "# find all unique pid\n",
    "# count maxium seq for a patient"
   ]
  },
  {
   "cell_type": "code",
   "execution_count": 7,
   "id": "1c8ff839",
   "metadata": {
    "scrolled": true
   },
   "outputs": [
    {
     "name": "stdout",
     "output_type": "stream",
     "text": [
      "Number of unique patients: 46520\n"
     ]
    }
   ],
   "source": [
    "pids = list(set(DIAGNOSES_ICD['SUBJECT_ID']))\n",
    "print('Number of unique patients: {}'.format(len(pids)))"
   ]
  },
  {
   "cell_type": "code",
   "execution_count": 19,
   "id": "14a4cba2",
   "metadata": {},
   "outputs": [
    {
     "data": {
      "text/html": [
       "<div>\n",
       "<style scoped>\n",
       "    .dataframe tbody tr th:only-of-type {\n",
       "        vertical-align: middle;\n",
       "    }\n",
       "\n",
       "    .dataframe tbody tr th {\n",
       "        vertical-align: top;\n",
       "    }\n",
       "\n",
       "    .dataframe thead th {\n",
       "        text-align: right;\n",
       "    }\n",
       "</style>\n",
       "<table border=\"1\" class=\"dataframe\">\n",
       "  <thead>\n",
       "    <tr style=\"text-align: right;\">\n",
       "      <th></th>\n",
       "      <th>ROW_ID</th>\n",
       "      <th>SUBJECT_ID</th>\n",
       "      <th>HADM_ID</th>\n",
       "      <th>SEQ_NUM</th>\n",
       "      <th>ICD9_CODE</th>\n",
       "    </tr>\n",
       "  </thead>\n",
       "  <tbody>\n",
       "    <tr>\n",
       "      <th>0</th>\n",
       "      <td>1297</td>\n",
       "      <td>109</td>\n",
       "      <td>172335</td>\n",
       "      <td>1.0</td>\n",
       "      <td>40301</td>\n",
       "    </tr>\n",
       "    <tr>\n",
       "      <th>1</th>\n",
       "      <td>1298</td>\n",
       "      <td>109</td>\n",
       "      <td>172335</td>\n",
       "      <td>2.0</td>\n",
       "      <td>486</td>\n",
       "    </tr>\n",
       "    <tr>\n",
       "      <th>2</th>\n",
       "      <td>1299</td>\n",
       "      <td>109</td>\n",
       "      <td>172335</td>\n",
       "      <td>3.0</td>\n",
       "      <td>58281</td>\n",
       "    </tr>\n",
       "    <tr>\n",
       "      <th>3</th>\n",
       "      <td>1300</td>\n",
       "      <td>109</td>\n",
       "      <td>172335</td>\n",
       "      <td>4.0</td>\n",
       "      <td>5855</td>\n",
       "    </tr>\n",
       "    <tr>\n",
       "      <th>4</th>\n",
       "      <td>1301</td>\n",
       "      <td>109</td>\n",
       "      <td>172335</td>\n",
       "      <td>5.0</td>\n",
       "      <td>4254</td>\n",
       "    </tr>\n",
       "  </tbody>\n",
       "</table>\n",
       "</div>"
      ],
      "text/plain": [
       "   ROW_ID  SUBJECT_ID  HADM_ID  SEQ_NUM ICD9_CODE\n",
       "0    1297         109   172335      1.0     40301\n",
       "1    1298         109   172335      2.0       486\n",
       "2    1299         109   172335      3.0     58281\n",
       "3    1300         109   172335      4.0      5855\n",
       "4    1301         109   172335      5.0      4254"
      ]
     },
     "execution_count": 19,
     "metadata": {},
     "output_type": "execute_result"
    }
   ],
   "source": [
    "DIAGNOSES_ICD.head()"
   ]
  },
  {
   "cell_type": "code",
   "execution_count": 33,
   "id": "bb946346",
   "metadata": {},
   "outputs": [
    {
     "name": "stdout",
     "output_type": "stream",
     "text": [
      "Length of D_ICD_DIAGNOSES: 14567\n"
     ]
    },
    {
     "data": {
      "text/html": [
       "<div>\n",
       "<style scoped>\n",
       "    .dataframe tbody tr th:only-of-type {\n",
       "        vertical-align: middle;\n",
       "    }\n",
       "\n",
       "    .dataframe tbody tr th {\n",
       "        vertical-align: top;\n",
       "    }\n",
       "\n",
       "    .dataframe thead th {\n",
       "        text-align: right;\n",
       "    }\n",
       "</style>\n",
       "<table border=\"1\" class=\"dataframe\">\n",
       "  <thead>\n",
       "    <tr style=\"text-align: right;\">\n",
       "      <th></th>\n",
       "      <th>ROW_ID</th>\n",
       "      <th>ICD9_CODE</th>\n",
       "      <th>SHORT_TITLE</th>\n",
       "      <th>LONG_TITLE</th>\n",
       "    </tr>\n",
       "  </thead>\n",
       "  <tbody>\n",
       "    <tr>\n",
       "      <th>0</th>\n",
       "      <td>174</td>\n",
       "      <td>01166</td>\n",
       "      <td>TB pneumonia-oth test</td>\n",
       "      <td>Tuberculous pneumonia [any form], tubercle bac...</td>\n",
       "    </tr>\n",
       "    <tr>\n",
       "      <th>1</th>\n",
       "      <td>175</td>\n",
       "      <td>01170</td>\n",
       "      <td>TB pneumothorax-unspec</td>\n",
       "      <td>Tuberculous pneumothorax, unspecified</td>\n",
       "    </tr>\n",
       "    <tr>\n",
       "      <th>2</th>\n",
       "      <td>176</td>\n",
       "      <td>01171</td>\n",
       "      <td>TB pneumothorax-no exam</td>\n",
       "      <td>Tuberculous pneumothorax, bacteriological or h...</td>\n",
       "    </tr>\n",
       "    <tr>\n",
       "      <th>3</th>\n",
       "      <td>177</td>\n",
       "      <td>01172</td>\n",
       "      <td>TB pneumothorx-exam unkn</td>\n",
       "      <td>Tuberculous pneumothorax, bacteriological or h...</td>\n",
       "    </tr>\n",
       "    <tr>\n",
       "      <th>4</th>\n",
       "      <td>178</td>\n",
       "      <td>01173</td>\n",
       "      <td>TB pneumothorax-micro dx</td>\n",
       "      <td>Tuberculous pneumothorax, tubercle bacilli fou...</td>\n",
       "    </tr>\n",
       "    <tr>\n",
       "      <th>5</th>\n",
       "      <td>179</td>\n",
       "      <td>01174</td>\n",
       "      <td>TB pneumothorax-cult dx</td>\n",
       "      <td>Tuberculous pneumothorax, tubercle bacilli not...</td>\n",
       "    </tr>\n",
       "    <tr>\n",
       "      <th>6</th>\n",
       "      <td>180</td>\n",
       "      <td>01175</td>\n",
       "      <td>TB pneumothorax-histo dx</td>\n",
       "      <td>Tuberculous pneumothorax, tubercle bacilli not...</td>\n",
       "    </tr>\n",
       "    <tr>\n",
       "      <th>7</th>\n",
       "      <td>181</td>\n",
       "      <td>01176</td>\n",
       "      <td>TB pneumothorax-oth test</td>\n",
       "      <td>Tuberculous pneumothorax, tubercle bacilli not...</td>\n",
       "    </tr>\n",
       "    <tr>\n",
       "      <th>8</th>\n",
       "      <td>182</td>\n",
       "      <td>01180</td>\n",
       "      <td>Pulmonary TB NEC-unspec</td>\n",
       "      <td>Other specified pulmonary tuberculosis, unspec...</td>\n",
       "    </tr>\n",
       "    <tr>\n",
       "      <th>9</th>\n",
       "      <td>183</td>\n",
       "      <td>01181</td>\n",
       "      <td>Pulmonary TB NEC-no exam</td>\n",
       "      <td>Other specified pulmonary tuberculosis, bacter...</td>\n",
       "    </tr>\n",
       "  </tbody>\n",
       "</table>\n",
       "</div>"
      ],
      "text/plain": [
       "   ROW_ID ICD9_CODE               SHORT_TITLE  \\\n",
       "0     174     01166     TB pneumonia-oth test   \n",
       "1     175     01170    TB pneumothorax-unspec   \n",
       "2     176     01171   TB pneumothorax-no exam   \n",
       "3     177     01172  TB pneumothorx-exam unkn   \n",
       "4     178     01173  TB pneumothorax-micro dx   \n",
       "5     179     01174   TB pneumothorax-cult dx   \n",
       "6     180     01175  TB pneumothorax-histo dx   \n",
       "7     181     01176  TB pneumothorax-oth test   \n",
       "8     182     01180   Pulmonary TB NEC-unspec   \n",
       "9     183     01181  Pulmonary TB NEC-no exam   \n",
       "\n",
       "                                          LONG_TITLE  \n",
       "0  Tuberculous pneumonia [any form], tubercle bac...  \n",
       "1              Tuberculous pneumothorax, unspecified  \n",
       "2  Tuberculous pneumothorax, bacteriological or h...  \n",
       "3  Tuberculous pneumothorax, bacteriological or h...  \n",
       "4  Tuberculous pneumothorax, tubercle bacilli fou...  \n",
       "5  Tuberculous pneumothorax, tubercle bacilli not...  \n",
       "6  Tuberculous pneumothorax, tubercle bacilli not...  \n",
       "7  Tuberculous pneumothorax, tubercle bacilli not...  \n",
       "8  Other specified pulmonary tuberculosis, unspec...  \n",
       "9  Other specified pulmonary tuberculosis, bacter...  "
      ]
     },
     "execution_count": 33,
     "metadata": {},
     "output_type": "execute_result"
    }
   ],
   "source": [
    "D_ICD_DIAGNOSES = pd.read_csv(os.path.join(DATA_PATH, 'D_ICD_DIAGNOSES.csv'))\n",
    "print('Length of D_ICD_DIAGNOSES: {}'.format(len(D_ICD_DIAGNOSES)))\n",
    "D_ICD_DIAGNOSES.head(10)"
   ]
  },
  {
   "cell_type": "markdown",
   "id": "13753c5c",
   "metadata": {},
   "source": [
    "## Preprocessing"
   ]
  },
  {
   "cell_type": "code",
   "execution_count": 15,
   "id": "2ae951ce",
   "metadata": {},
   "outputs": [
    {
     "name": "stderr",
     "output_type": "stream",
     "text": [
      "100%|███████████████████████████████| 46520/46520 [00:24<00:00, 1868.91it/s]\n"
     ]
    }
   ],
   "source": [
    "# This funciton is to find out the maximum number of visits?\n",
    "p_seqs = []\n",
    "visit_counts = []\n",
    "for p_id in tqdm(pids):\n",
    "    patient = DIAGNOSES_ICD.loc[DIAGNOSES_ICD['SUBJECT_ID'] == p_id]\n",
    "    visit_counts.append(len(patient))\n",
    "    \n",
    "    # iterate through each visit (hospital - HADM_ID)\n",
    "    #for visit_id in patient.HADM_ID.unique():\n",
    "    #    visit = patient.loc[patient['HADM_ID'] == visit_id]\n",
    "    #    diagnosis_length = len(visit)"
   ]
  },
  {
   "cell_type": "code",
   "execution_count": 23,
   "id": "0f755f27",
   "metadata": {
    "scrolled": true
   },
   "outputs": [
    {
     "name": "stdout",
     "output_type": "stream",
     "text": [
      "Maximum visit of a patient: 540\n",
      "Average visit per patient: 13.994991401547722\n"
     ]
    }
   ],
   "source": [
    "print('Maximum visit of a patient: {}'.format(max(visit_counts)))\n",
    "print('Average visit per patient: {}'.format(sum(visit_counts)/len(visit_counts)))"
   ]
  },
  {
   "cell_type": "code",
   "execution_count": 21,
   "id": "981a9803",
   "metadata": {},
   "outputs": [
    {
     "name": "stderr",
     "output_type": "stream",
     "text": [
      "100%|███████████████████████████████| 46520/46520 [00:33<00:00, 1369.09it/s]\n"
     ]
    }
   ],
   "source": [
    "diagnosis_codes = {} # key: pid, value: array of visits, each visit contains ICD-9 codes\n",
    "for p_id in tqdm(pids):\n",
    "    patient = DIAGNOSES_ICD.loc[DIAGNOSES_ICD['SUBJECT_ID'] == p_id]\n",
    "    curr = []\n",
    "    for visit_id in patient.HADM_ID.unique():\n",
    "        visit = patient.loc[patient['HADM_ID'] == visit_id]\n",
    "        curr.append(visit.ICD9_CODE.tolist())\n",
    "    \n",
    "    diagnosis_codes[p_id] = curr"
   ]
  },
  {
   "cell_type": "code",
   "execution_count": 39,
   "id": "1c47f2b3",
   "metadata": {},
   "outputs": [
    {
     "data": {
      "text/plain": [
       "46520"
      ]
     },
     "execution_count": 39,
     "metadata": {},
     "output_type": "execute_result"
    }
   ],
   "source": [
    "len(diagnosis_codes)"
   ]
  },
  {
   "cell_type": "markdown",
   "id": "4446e157",
   "metadata": {},
   "source": [
    "#### Find out the top diagnosis codes"
   ]
  },
  {
   "cell_type": "code",
   "execution_count": 26,
   "id": "7c35fdfb",
   "metadata": {},
   "outputs": [
    {
     "name": "stderr",
     "output_type": "stream",
     "text": [
      "100%|████████████████████████████| 46520/46520 [00:00<00:00, 2184347.47it/s]\n"
     ]
    }
   ],
   "source": [
    "# per patient base\n",
    "# count diagnosis codes with 3 or more visits\n",
    "diag_codes = {}\n",
    "for p_id in tqdm(pids):\n",
    "    if len(diagnosis_codes[p_id]) < 3:\n",
    "        continue\n",
    "    \n",
    "    # count codes\n",
    "    for visit in diagnosis_codes[p_id][3:]:\n",
    "        for code in visit:\n",
    "            if code not in diag_codes:\n",
    "                diag_codes[code] = 0\n",
    "            \n",
    "            diag_codes[code] += 1"
   ]
  },
  {
   "cell_type": "code",
   "execution_count": 129,
   "id": "2ec192fa",
   "metadata": {
    "scrolled": true
   },
   "outputs": [
    {
     "data": {
      "text/plain": [
       "[('4280', 1067),\n",
       " ('4019', 728),\n",
       " ('5849', 641),\n",
       " ('42731', 629),\n",
       " ('41401', 485),\n",
       " ('51881', 458),\n",
       " ('25000', 450),\n",
       " ('5856', 437),\n",
       " ('5990', 427),\n",
       " ('40391', 416)]"
      ]
     },
     "execution_count": 129,
     "metadata": {},
     "output_type": "execute_result"
    }
   ],
   "source": [
    "sorted_code_freq = sorted(diag_codes.items(), key=lambda item: item[1], reverse=True)\n",
    "sorted_code_freq[:10]"
   ]
  },
  {
   "cell_type": "markdown",
   "id": "c53e926b",
   "metadata": {},
   "source": [
    "### Create Mapping between ICD9_CODE and titles"
   ]
  },
  {
   "cell_type": "code",
   "execution_count": 34,
   "id": "b261bf5d",
   "metadata": {},
   "outputs": [
    {
     "data": {
      "text/html": [
       "<div>\n",
       "<style scoped>\n",
       "    .dataframe tbody tr th:only-of-type {\n",
       "        vertical-align: middle;\n",
       "    }\n",
       "\n",
       "    .dataframe tbody tr th {\n",
       "        vertical-align: top;\n",
       "    }\n",
       "\n",
       "    .dataframe thead th {\n",
       "        text-align: right;\n",
       "    }\n",
       "</style>\n",
       "<table border=\"1\" class=\"dataframe\">\n",
       "  <thead>\n",
       "    <tr style=\"text-align: right;\">\n",
       "      <th></th>\n",
       "      <th>ROW_ID</th>\n",
       "      <th>ICD9_CODE</th>\n",
       "      <th>SHORT_TITLE</th>\n",
       "      <th>LONG_TITLE</th>\n",
       "    </tr>\n",
       "  </thead>\n",
       "  <tbody>\n",
       "    <tr>\n",
       "      <th>0</th>\n",
       "      <td>174</td>\n",
       "      <td>01166</td>\n",
       "      <td>TB pneumonia-oth test</td>\n",
       "      <td>Tuberculous pneumonia [any form], tubercle bac...</td>\n",
       "    </tr>\n",
       "    <tr>\n",
       "      <th>1</th>\n",
       "      <td>175</td>\n",
       "      <td>01170</td>\n",
       "      <td>TB pneumothorax-unspec</td>\n",
       "      <td>Tuberculous pneumothorax, unspecified</td>\n",
       "    </tr>\n",
       "    <tr>\n",
       "      <th>2</th>\n",
       "      <td>176</td>\n",
       "      <td>01171</td>\n",
       "      <td>TB pneumothorax-no exam</td>\n",
       "      <td>Tuberculous pneumothorax, bacteriological or h...</td>\n",
       "    </tr>\n",
       "    <tr>\n",
       "      <th>3</th>\n",
       "      <td>177</td>\n",
       "      <td>01172</td>\n",
       "      <td>TB pneumothorx-exam unkn</td>\n",
       "      <td>Tuberculous pneumothorax, bacteriological or h...</td>\n",
       "    </tr>\n",
       "    <tr>\n",
       "      <th>4</th>\n",
       "      <td>178</td>\n",
       "      <td>01173</td>\n",
       "      <td>TB pneumothorax-micro dx</td>\n",
       "      <td>Tuberculous pneumothorax, tubercle bacilli fou...</td>\n",
       "    </tr>\n",
       "  </tbody>\n",
       "</table>\n",
       "</div>"
      ],
      "text/plain": [
       "   ROW_ID ICD9_CODE               SHORT_TITLE  \\\n",
       "0     174     01166     TB pneumonia-oth test   \n",
       "1     175     01170    TB pneumothorax-unspec   \n",
       "2     176     01171   TB pneumothorax-no exam   \n",
       "3     177     01172  TB pneumothorx-exam unkn   \n",
       "4     178     01173  TB pneumothorax-micro dx   \n",
       "\n",
       "                                          LONG_TITLE  \n",
       "0  Tuberculous pneumonia [any form], tubercle bac...  \n",
       "1              Tuberculous pneumothorax, unspecified  \n",
       "2  Tuberculous pneumothorax, bacteriological or h...  \n",
       "3  Tuberculous pneumothorax, bacteriological or h...  \n",
       "4  Tuberculous pneumothorax, tubercle bacilli fou...  "
      ]
     },
     "execution_count": 34,
     "metadata": {},
     "output_type": "execute_result"
    }
   ],
   "source": [
    "D_ICD_DIAGNOSES.head()"
   ]
  },
  {
   "cell_type": "code",
   "execution_count": 55,
   "id": "9e42521b",
   "metadata": {},
   "outputs": [
    {
     "name": "stdout",
     "output_type": "stream",
     "text": [
      "     ICD9_CODE SHORT_TITLE\n",
      "4472      4280     CHF NOS\n",
      "     ICD9_CODE       SHORT_TITLE\n",
      "4303      4019  Hypertension NOS\n",
      "     ICD9_CODE               SHORT_TITLE\n",
      "5906      5849  Acute kidney failure NOS\n",
      "     ICD9_CODE          SHORT_TITLE\n",
      "4461     42731  Atrial fibrillation\n",
      "     ICD9_CODE               SHORT_TITLE\n",
      "4373     41401  Crnry athrscl natve vssl\n",
      "     ICD9_CODE               SHORT_TITLE\n",
      "5550     51881  Acute respiratry failure\n",
      "     ICD9_CODE               SHORT_TITLE\n",
      "1588     25000  DMII wo cmp nt st uncntr\n",
      "     ICD9_CODE              SHORT_TITLE\n",
      "5912      5856  End stage renal disease\n",
      "     ICD9_CODE               SHORT_TITLE\n",
      "6550      5990  Urin tract infection NOS\n",
      "     ICD9_CODE             SHORT_TITLE\n",
      "4315     40391  Hyp kid NOS w cr kid V\n"
     ]
    }
   ],
   "source": [
    "for code, freq in sorted_code_freq[:10]:\n",
    "    print(D_ICD_DIAGNOSES.loc[D_ICD_DIAGNOSES['ICD9_CODE'] == code][['ICD9_CODE', 'SHORT_TITLE']])"
   ]
  },
  {
   "cell_type": "code",
   "execution_count": 60,
   "id": "f0580c68",
   "metadata": {},
   "outputs": [
    {
     "name": "stdout",
     "output_type": "stream",
     "text": [
      "9843\n",
      "17613\n",
      "7687\n"
     ]
    }
   ],
   "source": [
    "c1_pids = DIAGNOSES_ICD.loc[DIAGNOSES_ICD['ICD9_CODE'] == '4280'].SUBJECT_ID.unique()\n",
    "print(len(c1_pids))\n",
    "c2_pids = DIAGNOSES_ICD.loc[DIAGNOSES_ICD['ICD9_CODE'] == '4019'].SUBJECT_ID.unique()\n",
    "print(len(c2_pids))\n",
    "c3_pids = DIAGNOSES_ICD.loc[DIAGNOSES_ICD['ICD9_CODE'] == '5849'].SUBJECT_ID.unique()\n",
    "print(len(c3_pids))"
   ]
  },
  {
   "cell_type": "code",
   "execution_count": 64,
   "id": "aa8bf54d",
   "metadata": {},
   "outputs": [
    {
     "name": "stdout",
     "output_type": "stream",
     "text": [
      "674\n",
      "624\n",
      "651\n"
     ]
    }
   ],
   "source": [
    "def count_selected_patients(pids):\n",
    "    nums = 0\n",
    "    for p_id in pids:\n",
    "        if len(diagnosis_codes[p_id]) < 4:\n",
    "            continue\n",
    "        nums += 1\n",
    "    print(nums)\n",
    "\n",
    "count_selected_patients(c1_pids)\n",
    "count_selected_patients(c2_pids)\n",
    "count_selected_patients(c3_pids)"
   ]
  },
  {
   "cell_type": "code",
   "execution_count": 66,
   "id": "ffa9b1ba",
   "metadata": {},
   "outputs": [],
   "source": [
    "def select_patients(pids):\n",
    "    out = []\n",
    "    for p_id in pids:\n",
    "        if len(diagnosis_codes[p_id]) < 4:\n",
    "            continue\n",
    "        out.append(p_id)\n",
    "    return out\n",
    "\n",
    "c1 = select_patients(c1_pids)\n",
    "c2 = select_patients(c2_pids)\n",
    "c3 = select_patients(c3_pids)"
   ]
  },
  {
   "cell_type": "code",
   "execution_count": 68,
   "id": "ac4844a2",
   "metadata": {},
   "outputs": [
    {
     "name": "stdout",
     "output_type": "stream",
     "text": [
      "42\n",
      "42\n",
      "42\n"
     ]
    }
   ],
   "source": [
    "def max_visit(pids):\n",
    "    counts = []\n",
    "    for p_id in pids:\n",
    "        counts.append(len(diagnosis_codes[p_id]))\n",
    "    print(max(counts))\n",
    "\n",
    "max_visit(c1)\n",
    "max_visit(c2)\n",
    "max_visit(c3)"
   ]
  },
  {
   "cell_type": "code",
   "execution_count": 69,
   "id": "5efe735c",
   "metadata": {},
   "outputs": [
    {
     "name": "stdout",
     "output_type": "stream",
     "text": [
      "5.551928783382789\n",
      "5.551282051282051\n",
      "5.723502304147465\n"
     ]
    }
   ],
   "source": [
    "def avg_visit(pids):\n",
    "    counts = []\n",
    "    for p_id in pids:\n",
    "        counts.append(len(diagnosis_codes[p_id]))\n",
    "    print(sum(counts)/len(counts))\n",
    "avg_visit(c1)\n",
    "avg_visit(c2)\n",
    "avg_visit(c3)"
   ]
  },
  {
   "cell_type": "code",
   "execution_count": 139,
   "id": "d67adece",
   "metadata": {},
   "outputs": [
    {
     "data": {
      "text/plain": [
       "683"
      ]
     },
     "execution_count": 139,
     "metadata": {},
     "output_type": "execute_result"
    }
   ],
   "source": [
    "# any shared particpants, mutually exclusive\n",
    "c1_set = set(c1)\n",
    "c2_set = set(c2)\n",
    "c3_set = set(c3)\n",
    "\n",
    "common_pids = set()\n",
    "common_pids = common_pids.union(c1_set.intersection(c2_set))\n",
    "common_pids = common_pids.union(c2_set.intersection(c3_set))\n",
    "common_pids = common_pids.union(c3_set.intersection(c1_set))\n",
    "# common_pids = common_pids.union(c1_set.intersection(c2_set, c3_set))\n",
    "len(common_pids)"
   ]
  },
  {
   "cell_type": "code",
   "execution_count": 140,
   "id": "84834ef1",
   "metadata": {},
   "outputs": [
    {
     "name": "stdout",
     "output_type": "stream",
     "text": [
      "101\n",
      "90\n",
      "82\n"
     ]
    }
   ],
   "source": [
    "def remove_common_patients(pids, common):\n",
    "    return list(filter(lambda x: x not in common, pids))\n",
    "\n",
    "c1_unique = remove_common_patients(c1, common_pids)\n",
    "c2_unique = remove_common_patients(c2, common_pids)\n",
    "c3_unique = remove_common_patients(c3, common_pids)\n",
    "print(len(c1_unique))\n",
    "print(len(c2_unique))\n",
    "print(len(c3_unique))"
   ]
  },
  {
   "cell_type": "code",
   "execution_count": 142,
   "id": "63f9eba0",
   "metadata": {},
   "outputs": [
    {
     "name": "stdout",
     "output_type": "stream",
     "text": [
      "156\n",
      "205\n",
      "263\n"
     ]
    }
   ],
   "source": [
    "# rebalance each group\n",
    "# who ever first encounter\n",
    "c1_sub = []\n",
    "c2_sub = []\n",
    "c3_sub = []\n",
    "for p_id in common_pids:\n",
    "    for visit in diagnosis_codes[p_id][3:]:\n",
    "        if '5849' in visit:\n",
    "            c3_sub.append(p_id)\n",
    "            break\n",
    "        if '4019' in visit:\n",
    "            c2_sub.append(p_id)\n",
    "            break\n",
    "        if '4280' in visit:\n",
    "            c1_sub.append(p_id)\n",
    "            break\n",
    "\n",
    "print(len(c1_sub))\n",
    "print(len(c2_sub))\n",
    "print(len(c3_sub))"
   ]
  },
  {
   "cell_type": "code",
   "execution_count": 143,
   "id": "a4397371",
   "metadata": {},
   "outputs": [
    {
     "name": "stdout",
     "output_type": "stream",
     "text": [
      "257\n",
      "295\n",
      "345\n",
      "Max Visit\n",
      "42\n",
      "31\n",
      "34\n",
      "Average Visit\n",
      "5.918287937743191\n",
      "5.216949152542373\n",
      "5.684057971014493\n"
     ]
    }
   ],
   "source": [
    "c1_clean = c1_unique + c1_sub\n",
    "c2_clean = c2_unique + c2_sub\n",
    "c3_clean = c3_unique + c3_sub\n",
    "print(len(c1_clean))\n",
    "print(len(c2_clean))\n",
    "print(len(c3_clean))\n",
    "\n",
    "print('Max Visit')\n",
    "max_visit(c1_clean)\n",
    "max_visit(c2_clean)\n",
    "max_visit(c3_clean)\n",
    "\n",
    "print('Average Visit')\n",
    "avg_visit(c1_clean)\n",
    "avg_visit(c2_clean)\n",
    "avg_visit(c3_clean)"
   ]
  },
  {
   "cell_type": "code",
   "execution_count": 198,
   "id": "08a0b1ad",
   "metadata": {},
   "outputs": [
    {
     "name": "stdout",
     "output_type": "stream",
     "text": [
      "Unique Codes\n",
      "1703\n",
      "1913\n",
      "2061\n"
     ]
    }
   ],
   "source": [
    "def unique_codes(pids):\n",
    "    unique = []\n",
    "    for p_id in pids:\n",
    "        for visit in diagnosis_codes[p_id]:\n",
    "            unique += visit\n",
    "    \n",
    "    print(len(set(unique)))\n",
    "\n",
    "print('Unique Codes')\n",
    "unique_codes(c1_clean)\n",
    "unique_codes(c2_clean)\n",
    "unique_codes(c3_clean)"
   ]
  },
  {
   "cell_type": "code",
   "execution_count": 201,
   "id": "9caaae73",
   "metadata": {},
   "outputs": [
    {
     "name": "stdout",
     "output_type": "stream",
     "text": [
      "Unique codes per patient\n",
      "6.626459143968872\n",
      "6.4847457627118645\n",
      "5.973913043478261\n"
     ]
    }
   ],
   "source": [
    "print(\"Unique codes per patient\")\n",
    "print(1703 / 257.0)\n",
    "print(1913 / 295.0)\n",
    "print(2061 / 345.0)"
   ]
  },
  {
   "cell_type": "code",
   "execution_count": 200,
   "id": "2d69895d",
   "metadata": {},
   "outputs": [
    {
     "name": "stdout",
     "output_type": "stream",
     "text": [
      "Total Events\n",
      "22573\n",
      "21775\n",
      "30498\n"
     ]
    }
   ],
   "source": [
    "def total_events(pids):\n",
    "    unique = []\n",
    "    for p_id in pids:\n",
    "        for visit in diagnosis_codes[p_id]:\n",
    "            unique += visit\n",
    "    print(len(unique))\n",
    "\n",
    "print('Total Events')\n",
    "total_events(c1_clean)\n",
    "total_events(c2_clean)\n",
    "total_events(c3_clean)"
   ]
  },
  {
   "cell_type": "code",
   "execution_count": 202,
   "id": "5e8fb1b3",
   "metadata": {},
   "outputs": [
    {
     "name": "stdout",
     "output_type": "stream",
     "text": [
      "Avg # event per patient\n",
      "87.83268482490273\n",
      "73.8135593220339\n",
      "88.4\n"
     ]
    }
   ],
   "source": [
    "print(\"Avg # event per patient\")\n",
    "print(22573 / 257.0)\n",
    "print(21775 / 295.0)\n",
    "print(30498 / 345.0)"
   ]
  },
  {
   "cell_type": "code",
   "execution_count": 144,
   "id": "2699987a",
   "metadata": {},
   "outputs": [
    {
     "data": {
      "text/plain": [
       "0"
      ]
     },
     "execution_count": 144,
     "metadata": {},
     "output_type": "execute_result"
    }
   ],
   "source": [
    "# verify that each group is mutually exclusive\n",
    "c1_set = set(c1_clean)\n",
    "c2_set = set(c2_clean)\n",
    "c3_set = set(c3_clean)\n",
    "\n",
    "common_pids = set()\n",
    "common_pids = common_pids.union(c1_set.intersection(c2_set))\n",
    "common_pids = common_pids.union(c2_set.intersection(c3_set))\n",
    "common_pids = common_pids.union(c3_set.intersection(c1_set))\n",
    "len(common_pids)"
   ]
  },
  {
   "cell_type": "code",
   "execution_count": 146,
   "id": "4f68dcf7",
   "metadata": {},
   "outputs": [
    {
     "name": "stdout",
     "output_type": "stream",
     "text": [
      "Number of selected patient: 897\n",
      "897\n"
     ]
    }
   ],
   "source": [
    "combined = c1_clean + c2_clean + c3_clean\n",
    "print('Number of selected patient: {}'.format(len(combined)))\n",
    "combined_code  = []\n",
    "combined_label = []\n",
    "\n",
    "# extract dataframe only contains the selected patients\n",
    "combined_df = DIAGNOSES_ICD[DIAGNOSES_ICD['SUBJECT_ID'].isin(combined)]\n",
    "combined_code = combined_df['ICD9_CODE'].unique().tolist()\n",
    "combined_pids = combined_df['SUBJECT_ID'].unique().tolist()\n",
    "print(len(combined_pids))"
   ]
  },
  {
   "cell_type": "markdown",
   "id": "edc62a1c",
   "metadata": {},
   "source": [
    "#### create mapping for diagnosis code label\n",
    "Raw ICD-9 to with prefix-ICD-9"
   ]
  },
  {
   "cell_type": "code",
   "execution_count": 147,
   "id": "ba029d65",
   "metadata": {},
   "outputs": [
    {
     "name": "stderr",
     "output_type": "stream",
     "text": [
      "2835it [00:00, 692133.40it/s]\n"
     ]
    }
   ],
   "source": [
    "text_code = []\n",
    "for icd_code in combined_code:\n",
    "    text_code.append('DIAG_{}'.format(icd_code))\n",
    "\n",
    "tcode_to_idx = {}\n",
    "cidx_to_type = {}\n",
    "for idx, tcode in tqdm(enumerate(text_code)):\n",
    "    tcode_to_idx[tcode] = idx\n",
    "    cidx_to_type[idx] = tcode"
   ]
  },
  {
   "cell_type": "code",
   "execution_count": 194,
   "id": "8bc5b607",
   "metadata": {},
   "outputs": [
    {
     "name": "stdout",
     "output_type": "stream",
     "text": [
      "53\n",
      "29\n",
      "32\n"
     ]
    }
   ],
   "source": [
    "print(tcode_to_idx['DIAG_{}'.format(4280)])\n",
    "print(tcode_to_idx['DIAG_{}'.format(4019)])\n",
    "print(tcode_to_idx['DIAG_{}'.format(5849)])"
   ]
  },
  {
   "cell_type": "markdown",
   "id": "716d351f",
   "metadata": {},
   "source": [
    "#### remap patient id"
   ]
  },
  {
   "cell_type": "code",
   "execution_count": 150,
   "id": "b5b26685",
   "metadata": {},
   "outputs": [],
   "source": [
    "opid_to_idx = {} # original patient id to new index\n",
    "pidx_to_opid = {}\n",
    "for idx, old_id in enumerate(combined):\n",
    "    opid_to_idx[old_id] = idx\n",
    "    pidx_to_opid[idx] = old_id"
   ]
  },
  {
   "cell_type": "markdown",
   "id": "55b8fbd6",
   "metadata": {},
   "source": [
    "#### create lists to identify patients for each group\n",
    "getting the new index\n",
    "#### 4280 4019 5849"
   ]
  },
  {
   "cell_type": "code",
   "execution_count": 151,
   "id": "f7780c2b",
   "metadata": {},
   "outputs": [],
   "source": [
    "g1_pids = [opid_to_idx[p_id] for p_id in c1_clean] # 4280\n",
    "g2_pids = [opid_to_idx[p_id] for p_id in c2_clean] # 4019\n",
    "g3_pids = [opid_to_idx[p_id] for p_id in c3_clean] # 5849\n",
    "group_pids = {'4280': g1_pids, '4019': g2_pids, '5849': g3_pids}"
   ]
  },
  {
   "cell_type": "markdown",
   "id": "64762f7b",
   "metadata": {},
   "source": [
    "#### repack the dataset"
   ]
  },
  {
   "cell_type": "code",
   "execution_count": 152,
   "id": "1685b0ae",
   "metadata": {},
   "outputs": [],
   "source": [
    "# the reason we need for \n",
    "dataset_clean = {}\n",
    "for old_pid in combined:\n",
    "    raw_seqs = diagnosis_codes[old_pid]\n",
    "    curr_patient = []\n",
    "    for visit in raw_seqs:\n",
    "        # visit_tcode = ['DIAG_{}'.format(x) for x in visit]\n",
    "        \n",
    "        # map raw code to new index\n",
    "        visit_mod = [tcode_to_idx['DIAG_{}'.format(x)] for x in visit]\n",
    "        curr_patient.append(visit_mod)\n",
    "    \n",
    "    dataset_clean[opid_to_idx[old_pid]] = curr_patient\n",
    "\n",
    "# convert from dict to array\n",
    "seqs = [value for key, value in sorted(dataset_clean.items(), key=lambda item: item[0])]\n",
    "pids = [key   for key, value in sorted(dataset_clean.items(), key=lambda item: item[0])]"
   ]
  },
  {
   "cell_type": "code",
   "execution_count": 153,
   "id": "7d9f16b4",
   "metadata": {},
   "outputs": [],
   "source": [
    "with open('dataset/t1/pids.pkl', 'wb') as f:\n",
    "    pickle.dump(pids, f, protocol=4)\n",
    "with open('dataset/t1/seqs.pkl', 'wb') as f:\n",
    "    pickle.dump(seqs, f, protocol=4)\n",
    "with open('dataset/t1/rtypes.pkl', 'wb') as f:\n",
    "    pickle.dump(cidx_to_type, f, protocol=4)\n",
    "with open('dataset/t1/group_pids.pkl', 'wb') as f:\n",
    "    pickle.dump(group_pids, f, protocol=4)"
   ]
  }
 ],
 "metadata": {
  "kernelspec": {
   "display_name": "Python 3 (ipykernel)",
   "language": "python",
   "name": "python3"
  },
  "language_info": {
   "codemirror_mode": {
    "name": "ipython",
    "version": 3
   },
   "file_extension": ".py",
   "mimetype": "text/x-python",
   "name": "python",
   "nbconvert_exporter": "python",
   "pygments_lexer": "ipython3",
   "version": "3.8.11"
  }
 },
 "nbformat": 4,
 "nbformat_minor": 5
}
